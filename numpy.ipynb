{
 "metadata": {
  "language_info": {
   "codemirror_mode": {
    "name": "ipython",
    "version": 3
   },
   "file_extension": ".py",
   "mimetype": "text/x-python",
   "name": "python",
   "nbconvert_exporter": "python",
   "pygments_lexer": "ipython3",
   "version": "3.6.8"
  },
  "orig_nbformat": 2,
  "kernelspec": {
   "name": "python368jvsc74a57bd078a3e17523dddae1eb3db9e3eafcdd2be22175d561087d2177bc10fb6e054479",
   "display_name": "Python 3.6.8 64-bit"
  },
  "metadata": {
   "interpreter": {
    "hash": "78a3e17523dddae1eb3db9e3eafcdd2be22175d561087d2177bc10fb6e054479"
   }
  }
 },
 "nbformat": 4,
 "nbformat_minor": 2,
 "cells": [
  {
   "source": [
    "numpy자체는 모델링이나 과학계산을 위한 기능을 제공하지 않으므로 먼저 Numpy배열과 배열기반 연산에 대한 이해를 한 다음 pandas 같은 배열 기반 도구를 사용하면 훨씬 더 효율적이다.\n",
    "\n",
    "파이썬 산술계산 영역에서 중요한 위치를 차지하는 이유 중 하나는 대용량 데이터 배열을 효율적으로 다룰 수 있도록 설계되었다는 점이다."
   ],
   "cell_type": "markdown",
   "metadata": {}
  },
  {
   "source": [
    "# 4.1 NumPy ndarray:多次元配列"
   ],
   "cell_type": "markdown",
   "metadata": {}
  },
  {
   "cell_type": "code",
   "execution_count": 38,
   "metadata": {},
   "outputs": [],
   "source": [
    "import numpy as np\n",
    "import matplotlib.pyplot as plt"
   ]
  },
  {
   "cell_type": "code",
   "execution_count": 5,
   "metadata": {},
   "outputs": [],
   "source": [
    "my_arr = np.arange(1000000)\n",
    "my_list = list(range(1000000))"
   ]
  },
  {
   "cell_type": "code",
   "execution_count": 7,
   "metadata": {},
   "outputs": [
    {
     "output_type": "stream",
     "name": "stdout",
     "text": [
      "Wall time: 27 ms\n"
     ]
    }
   ],
   "source": [
    "%time for _ in range(10) : my_arr2 = my_arr*2"
   ]
  },
  {
   "cell_type": "code",
   "execution_count": 8,
   "metadata": {},
   "outputs": [
    {
     "output_type": "stream",
     "name": "stdout",
     "text": [
      "Wall time: 666 ms\n"
     ]
    }
   ],
   "source": [
    "%time for _ in range(10) : my_list2 = [x*2 for x in my_list]"
   ]
  },
  {
   "cell_type": "code",
   "execution_count": 9,
   "metadata": {},
   "outputs": [
    {
     "output_type": "execute_result",
     "data": {
      "text/plain": [
       "array([[ 1.29947376, -0.10312767,  0.5609965 ],\n",
       "       [ 1.54443684, -1.10192712, -1.56539621]])"
      ]
     },
     "metadata": {},
     "execution_count": 9
    }
   ],
   "source": [
    "data = np.random.randn(2,3)\n",
    "data"
   ]
  },
  {
   "cell_type": "code",
   "execution_count": 10,
   "metadata": {},
   "outputs": [
    {
     "output_type": "execute_result",
     "data": {
      "text/plain": [
       "array([[ 12.99473757,  -1.0312767 ,   5.60996505],\n",
       "       [ 15.44436845, -11.01927119, -15.65396211]])"
      ]
     },
     "metadata": {},
     "execution_count": 10
    }
   ],
   "source": [
    "data*10"
   ]
  },
  {
   "cell_type": "code",
   "execution_count": 11,
   "metadata": {},
   "outputs": [
    {
     "output_type": "execute_result",
     "data": {
      "text/plain": [
       "array([[ 2.59894751, -0.20625534,  1.12199301],\n",
       "       [ 3.08887369, -2.20385424, -3.13079242]])"
      ]
     },
     "metadata": {},
     "execution_count": 11
    }
   ],
   "source": [
    "data + data"
   ]
  },
  {
   "cell_type": "code",
   "execution_count": 13,
   "metadata": {},
   "outputs": [
    {
     "output_type": "execute_result",
     "data": {
      "text/plain": [
       "(2, 3)"
      ]
     },
     "metadata": {},
     "execution_count": 13
    }
   ],
   "source": [
    "data.shape"
   ]
  },
  {
   "cell_type": "code",
   "execution_count": 14,
   "metadata": {},
   "outputs": [
    {
     "output_type": "execute_result",
     "data": {
      "text/plain": [
       "dtype('float64')"
      ]
     },
     "metadata": {},
     "execution_count": 14
    }
   ],
   "source": [
    "data.dtype"
   ]
  },
  {
   "source": [
    "## 4.1.1 ndarray"
   ],
   "cell_type": "markdown",
   "metadata": {}
  },
  {
   "cell_type": "code",
   "execution_count": 16,
   "metadata": {},
   "outputs": [
    {
     "output_type": "stream",
     "name": "stdout",
     "text": [
      "[6.  7.5 8.  0.  1. ]\nfloat64\n"
     ]
    }
   ],
   "source": [
    "data1 = [6, 7.5, 8, 0, 1]\n",
    "arr1 = np.array(data1)\n",
    "print(arr1)\n",
    "print(arr1.dtype)"
   ]
  },
  {
   "source": [
    "같은 길이를 가지는 리스트를 내표하고 있는 순차 데이터는 다차원 배열로 변환 가능하다"
   ],
   "cell_type": "markdown",
   "metadata": {}
  },
  {
   "cell_type": "code",
   "execution_count": 20,
   "metadata": {},
   "outputs": [
    {
     "output_type": "stream",
     "name": "stdout",
     "text": [
      "2\n(2, 4)\nint32\n[[1 2 3 4]\n [5 6 7 8]]\n"
     ]
    }
   ],
   "source": [
    "data2 = [[1,2,3,4],[5,6,7,8]]\n",
    "arr2 = np.array(data2)\n",
    "print(arr2.ndim)\n",
    "print(arr2.shape)\n",
    "print(arr2.dtype)\n",
    "print(arr2)"
   ]
  },
  {
   "cell_type": "code",
   "execution_count": 22,
   "metadata": {},
   "outputs": [
    {
     "output_type": "stream",
     "name": "stdout",
     "text": [
      "[0. 0. 0. 0. 0. 0. 0. 0. 0. 0.]\n[[0. 0. 0. 0. 0. 0.]\n [0. 0. 0. 0. 0. 0.]\n [0. 0. 0. 0. 0. 0.]]\n[[[0. 0.]\n  [0. 0.]\n  [0. 0.]]\n\n [[0. 0.]\n  [0. 0.]\n  [0. 0.]]]\n"
     ]
    }
   ],
   "source": [
    "print(np.zeros(10))\n",
    "print(np.zeros((3,6)))\n",
    "print(np.zeros((2,3,2)))"
   ]
  },
  {
   "cell_type": "code",
   "execution_count": 23,
   "metadata": {},
   "outputs": [
    {
     "output_type": "execute_result",
     "data": {
      "text/plain": [
       "array([ 0,  1,  2,  3,  4,  5,  6,  7,  8,  9, 10, 11, 12, 13, 14])"
      ]
     },
     "metadata": {},
     "execution_count": 23
    }
   ],
   "source": [
    "# arange는 python의 range함수의 배열 버전이다\n",
    "np.arange(15)"
   ]
  },
  {
   "source": [
    "## 4.1.2 ndarrayのdtype"
   ],
   "cell_type": "markdown",
   "metadata": {}
  },
  {
   "cell_type": "code",
   "execution_count": 24,
   "metadata": {},
   "outputs": [],
   "source": [
    "arr1 = np.array([1,2,3], dtype=np.float64)\n",
    "arr2 = np.array([1,2,3], dtype=np.int32)"
   ]
  },
  {
   "cell_type": "code",
   "execution_count": 25,
   "metadata": {},
   "outputs": [
    {
     "output_type": "stream",
     "name": "stdout",
     "text": [
      "float64\nint32\n"
     ]
    }
   ],
   "source": [
    "print(arr1.dtype)\n",
    "print(arr2.dtype)"
   ]
  },
  {
   "source": [
    "ndarrayのastypeメソッドを利用して配列のdtypeを違う形に変換(casting)"
   ],
   "cell_type": "markdown",
   "metadata": {}
  },
  {
   "cell_type": "code",
   "execution_count": 27,
   "metadata": {},
   "outputs": [
    {
     "output_type": "stream",
     "name": "stdout",
     "text": [
      "int32\nfloat64\n"
     ]
    }
   ],
   "source": [
    "arr = np.array([1,2,3,4,5])\n",
    "print(arr.dtype)\n",
    "float_arr = arr.astype(np.float64)\n",
    "print(float_arr.dtype)"
   ]
  },
  {
   "cell_type": "code",
   "execution_count": 28,
   "metadata": {},
   "outputs": [
    {
     "output_type": "stream",
     "name": "stdout",
     "text": [
      "[ 3.7 -1.2 -2.6  0.5 12.9 10.1]\nfloat64\n[ 3 -1 -2  0 12 10]\n"
     ]
    }
   ],
   "source": [
    "arr = np.array([3.7, -1.2, -2.6, 0.5, 12.9, 10.1])\n",
    "print(arr)\n",
    "print(arr.dtype)\n",
    "print(arr.astype(np.int32))"
   ]
  },
  {
   "source": [
    "숫자 형식의 문자열을 담고 있는 배열이 있다면 astype을 사용하여 숫자로 변환할 수 있다."
   ],
   "cell_type": "markdown",
   "metadata": {}
  },
  {
   "cell_type": "code",
   "execution_count": 29,
   "metadata": {},
   "outputs": [
    {
     "output_type": "execute_result",
     "data": {
      "text/plain": [
       "array([ 1.25, -9.6 , 42.  ])"
      ]
     },
     "metadata": {},
     "execution_count": 29
    }
   ],
   "source": [
    "numeric_strings = np.array(['1.25', '-9.6', '42'], dtype = np.string_)\n",
    "numeric_strings.astype(float)"
   ]
  },
  {
   "cell_type": "code",
   "execution_count": 30,
   "metadata": {},
   "outputs": [
    {
     "output_type": "execute_result",
     "data": {
      "text/plain": [
       "array([0., 1., 2., 3., 4., 5., 6., 7., 8., 9.])"
      ]
     },
     "metadata": {},
     "execution_count": 30
    }
   ],
   "source": [
    "int_array = np.arange(10)\n",
    "calibers = np.array([.22, .270, .357, .380, .44, .50], dtype=np.float64)\n",
    "int_array.astype(calibers.dtype)"
   ]
  },
  {
   "source": [
    "## 4.1.3 NumPy배열의 산술 연산"
   ],
   "cell_type": "markdown",
   "metadata": {}
  },
  {
   "cell_type": "code",
   "execution_count": 31,
   "metadata": {},
   "outputs": [
    {
     "output_type": "execute_result",
     "data": {
      "text/plain": [
       "array([[1., 2., 3.],\n",
       "       [4., 5., 6.]])"
      ]
     },
     "metadata": {},
     "execution_count": 31
    }
   ],
   "source": [
    "arr = np.array([[1., 2., 3.], [4., 5., 6.]])\n",
    "arr"
   ]
  },
  {
   "cell_type": "code",
   "execution_count": 32,
   "metadata": {},
   "outputs": [
    {
     "output_type": "execute_result",
     "data": {
      "text/plain": [
       "array([[ 1.,  4.,  9.],\n",
       "       [16., 25., 36.]])"
      ]
     },
     "metadata": {},
     "execution_count": 32
    }
   ],
   "source": [
    "arr*arr"
   ]
  },
  {
   "cell_type": "code",
   "execution_count": 33,
   "metadata": {},
   "outputs": [
    {
     "output_type": "execute_result",
     "data": {
      "text/plain": [
       "array([[0., 0., 0.],\n",
       "       [0., 0., 0.]])"
      ]
     },
     "metadata": {},
     "execution_count": 33
    }
   ],
   "source": [
    "arr-arr"
   ]
  },
  {
   "cell_type": "code",
   "execution_count": 34,
   "metadata": {},
   "outputs": [
    {
     "output_type": "execute_result",
     "data": {
      "text/plain": [
       "array([[1.        , 0.5       , 0.33333333],\n",
       "       [0.25      , 0.2       , 0.16666667]])"
      ]
     },
     "metadata": {},
     "execution_count": 34
    }
   ],
   "source": [
    "1/arr"
   ]
  },
  {
   "cell_type": "code",
   "execution_count": 35,
   "metadata": {},
   "outputs": [
    {
     "output_type": "execute_result",
     "data": {
      "text/plain": [
       "array([[1.        , 1.41421356, 1.73205081],\n",
       "       [2.        , 2.23606798, 2.44948974]])"
      ]
     },
     "metadata": {},
     "execution_count": 35
    }
   ],
   "source": [
    "arr**0.5"
   ]
  },
  {
   "cell_type": "code",
   "execution_count": 36,
   "metadata": {},
   "outputs": [],
   "source": [
    "arr2 = np.array([[0., 4., 1.],[7., 2., 12.]])"
   ]
  },
  {
   "cell_type": "code",
   "execution_count": 37,
   "metadata": {},
   "outputs": [
    {
     "output_type": "execute_result",
     "data": {
      "text/plain": [
       "array([[ 0.,  4.,  1.],\n",
       "       [ 7.,  2., 12.]])"
      ]
     },
     "metadata": {},
     "execution_count": 37
    }
   ],
   "source": [
    "arr2"
   ]
  },
  {
   "source": [
    "같은 크기를 가지는 배열 간의 비교 연산은 불리언 배열을 반환한다."
   ],
   "cell_type": "markdown",
   "metadata": {}
  },
  {
   "cell_type": "code",
   "execution_count": 38,
   "metadata": {},
   "outputs": [
    {
     "output_type": "execute_result",
     "data": {
      "text/plain": [
       "array([[False,  True, False],\n",
       "       [ True, False,  True]])"
      ]
     },
     "metadata": {},
     "execution_count": 38
    }
   ],
   "source": [
    "arr2>arr"
   ]
  },
  {
   "source": [
    "## 4.1.4 색인과 슬라이싱 기초"
   ],
   "cell_type": "markdown",
   "metadata": {}
  },
  {
   "cell_type": "code",
   "execution_count": 40,
   "metadata": {},
   "outputs": [
    {
     "output_type": "stream",
     "name": "stdout",
     "text": [
      "[0 1 2 3 4 5 6 7 8 9]\n5\n[5 6 7]\n"
     ]
    }
   ],
   "source": [
    "arr = np.arange(10)\n",
    "print(arr)\n",
    "print(arr[5])\n",
    "print(arr[5:8])"
   ]
  },
  {
   "cell_type": "code",
   "execution_count": 42,
   "metadata": {},
   "outputs": [
    {
     "output_type": "stream",
     "name": "stdout",
     "text": [
      "[ 0  1  2  3  4 12 12 12  8  9]\n[12 12 12]\n"
     ]
    }
   ],
   "source": [
    "arr[5:8] = 12\n",
    "print(arr)\n",
    "arr_slice = arr[5:8]\n",
    "print(arr_slice)"
   ]
  },
  {
   "cell_type": "code",
   "execution_count": 47,
   "metadata": {},
   "outputs": [
    {
     "output_type": "stream",
     "name": "stdout",
     "text": [
      "[7 8 9]\n3\n3\n[[2 3]\n [5 6]]\n"
     ]
    }
   ],
   "source": [
    "arr2d = np.array([[1,2,3],[4,5,6],[7,8,9]])\n",
    "print(arr2d[2])\n",
    "# 2차원 배열에서 각 색인에 해당하는 요소는 스칼라값이 아니라 1차원 배열이다.\n",
    "# 개별요소는 콤마로 구분된 색인리스트로 넘긴다.\n",
    "print(arr2d[0][2])\n",
    "print(arr2d[0,2])\n",
    "print(arr2d[:2, 1:])"
   ]
  },
  {
   "cell_type": "code",
   "execution_count": 6,
   "metadata": {},
   "outputs": [
    {
     "output_type": "stream",
     "name": "stdout",
     "text": [
      "['Bob' 'Joe' 'Will' 'Bob' 'Will' 'Joe' 'Joe']\n[[-2.33152071  1.19738593 -0.41281944  0.02816428]\n [ 1.76683208  0.22957052  0.39093013  1.04542736]\n [ 0.22584062  1.52175092  0.77502836 -0.52825332]\n [-1.6747252   0.58486743 -0.98165768  0.61404838]\n [-1.27436272  1.32437243 -0.4933508   1.01254772]\n [-2.9229025   1.24268368 -0.0105453   1.18007827]\n [-0.25831041 -0.95643536 -0.54848212 -0.91561535]]\n"
     ]
    }
   ],
   "source": [
    "names = np.array(['Bob', 'Joe', 'Will', 'Bob', 'Will', 'Joe', 'Joe'])\n",
    "data = np.random.randn(7, 4)\n",
    "print(names)\n",
    "print(data)"
   ]
  },
  {
   "source": [
    "# 불리언 배열은 반드시 색인하려는 축의 길이와 동일한 길이를 가져야 한다. 불리언 배열은 배열의 색인으로 사용할 수 있다.\n",
    "print(names=='Bob')\n",
    "print(data[names=='Bob'])\n",
    "print(data[~(names=='Bob')]) # ~연산자는 일반적인 조건을 반대로 쓰고 싶을 때"
   ],
   "cell_type": "code",
   "metadata": {},
   "execution_count": 13,
   "outputs": [
    {
     "output_type": "stream",
     "name": "stdout",
     "text": [
      "[ True False False  True False False False]\n[[-2.33152071  1.19738593 -0.41281944  0.02816428]\n [-1.6747252   0.58486743 -0.98165768  0.61404838]]\n[[ 1.76683208  0.22957052  0.39093013  1.04542736]\n [ 0.22584062  1.52175092  0.77502836 -0.52825332]\n [-1.27436272  1.32437243 -0.4933508   1.01254772]\n [-2.9229025   1.24268368 -0.0105453   1.18007827]\n [-0.25831041 -0.95643536 -0.54848212 -0.91561535]]\n"
     ]
    }
   ]
  },
  {
   "cell_type": "code",
   "execution_count": 11,
   "metadata": {},
   "outputs": [
    {
     "output_type": "execute_result",
     "data": {
      "text/plain": [
       "array([[-0.41281944,  0.02816428],\n",
       "       [-0.98165768,  0.61404838]])"
      ]
     },
     "metadata": {},
     "execution_count": 11
    }
   ],
   "source": [
    "data[names=='Bob', 2:] #names=='Bob'인 row에서 2:컬럼을 선택"
   ]
  },
  {
   "source": [
    "## 4.1.6 fancy indexing\n",
    "\n",
    "- 팬시 색인은 정수 배열을 사용한 색인을 설명하시 위해 Numpy에서 차용한 단어다."
   ],
   "cell_type": "markdown",
   "metadata": {}
  },
  {
   "cell_type": "code",
   "execution_count": 14,
   "metadata": {},
   "outputs": [
    {
     "output_type": "execute_result",
     "data": {
      "text/plain": [
       "array([[0., 0., 0., 0.],\n",
       "       [1., 1., 1., 1.],\n",
       "       [2., 2., 2., 2.],\n",
       "       [3., 3., 3., 3.],\n",
       "       [4., 4., 4., 4.],\n",
       "       [5., 5., 5., 5.],\n",
       "       [6., 6., 6., 6.],\n",
       "       [7., 7., 7., 7.]])"
      ]
     },
     "metadata": {},
     "execution_count": 14
    }
   ],
   "source": [
    "arr = np.empty((8, 4))\n",
    "for i in range(8):\n",
    "    arr[i] = i\n",
    "arr"
   ]
  },
  {
   "cell_type": "code",
   "execution_count": 15,
   "metadata": {},
   "outputs": [
    {
     "output_type": "execute_result",
     "data": {
      "text/plain": [
       "array([[4., 4., 4., 4.],\n",
       "       [3., 3., 3., 3.],\n",
       "       [0., 0., 0., 0.],\n",
       "       [6., 6., 6., 6.]])"
      ]
     },
     "metadata": {},
     "execution_count": 15
    }
   ],
   "source": [
    "arr[[4, 3, 0, 6]]"
   ]
  },
  {
   "cell_type": "code",
   "execution_count": 16,
   "metadata": {},
   "outputs": [
    {
     "output_type": "execute_result",
     "data": {
      "text/plain": [
       "array([[5., 5., 5., 5.],\n",
       "       [3., 3., 3., 3.],\n",
       "       [1., 1., 1., 1.]])"
      ]
     },
     "metadata": {},
     "execution_count": 16
    }
   ],
   "source": [
    "arr[[-3, -5, -7]]"
   ]
  },
  {
   "cell_type": "code",
   "execution_count": 21,
   "metadata": {},
   "outputs": [
    {
     "output_type": "stream",
     "name": "stdout",
     "text": [
      "[[ 0  1  2  3]\n [ 4  5  6  7]\n [ 8  9 10 11]\n [12 13 14 15]\n [16 17 18 19]\n [20 21 22 23]\n [24 25 26 27]\n [28 29 30 31]]\n[ 4 23 29 10]\n[[ 4  7  5  6]\n [20 23 21 22]\n [28 31 29 30]\n [ 8 11  9 10]]\n"
     ]
    }
   ],
   "source": [
    "arr = np.arange(32).reshape((8,4))\n",
    "print(arr)\n",
    "print(arr[[1, 5, 7, 2],[0, 3, 1, 2]]) #팬시색인의 결과는 항상 1차원이다.\n",
    "print(arr[[1, 5, 7, 2]][:,[0, 3, 1, 2]])"
   ]
  },
  {
   "cell_type": "code",
   "execution_count": 22,
   "metadata": {},
   "outputs": [
    {
     "output_type": "execute_result",
     "data": {
      "text/plain": [
       "array([[ 0,  1,  2,  3,  4],\n",
       "       [ 5,  6,  7,  8,  9],\n",
       "       [10, 11, 12, 13, 14]])"
      ]
     },
     "metadata": {},
     "execution_count": 22
    }
   ],
   "source": [
    "arr = np.arange(15).reshape((3, 5))\n",
    "arr"
   ]
  },
  {
   "cell_type": "code",
   "execution_count": 23,
   "metadata": {},
   "outputs": [
    {
     "output_type": "execute_result",
     "data": {
      "text/plain": [
       "array([[ 0,  5, 10],\n",
       "       [ 1,  6, 11],\n",
       "       [ 2,  7, 12],\n",
       "       [ 3,  8, 13],\n",
       "       [ 4,  9, 14]])"
      ]
     },
     "metadata": {},
     "execution_count": 23
    }
   ],
   "source": [
    "arr.T"
   ]
  },
  {
   "cell_type": "code",
   "execution_count": 25,
   "metadata": {},
   "outputs": [
    {
     "output_type": "execute_result",
     "data": {
      "text/plain": [
       "array([[125, 140, 155, 170, 185],\n",
       "       [140, 158, 176, 194, 212],\n",
       "       [155, 176, 197, 218, 239],\n",
       "       [170, 194, 218, 242, 266],\n",
       "       [185, 212, 239, 266, 293]])"
      ]
     },
     "metadata": {},
     "execution_count": 25
    }
   ],
   "source": [
    "np.dot(arr.T, arr) #행렬의 내적"
   ]
  },
  {
   "cell_type": "code",
   "execution_count": 26,
   "metadata": {},
   "outputs": [
    {
     "output_type": "execute_result",
     "data": {
      "text/plain": [
       "array([[[ 0,  1,  2,  3],\n",
       "        [ 4,  5,  6,  7]],\n",
       "\n",
       "       [[ 8,  9, 10, 11],\n",
       "        [12, 13, 14, 15]]])"
      ]
     },
     "metadata": {},
     "execution_count": 26
    }
   ],
   "source": [
    "arr = np.arange(16).reshape((2,2,4))\n",
    "arr"
   ]
  },
  {
   "cell_type": "code",
   "execution_count": 27,
   "metadata": {},
   "outputs": [
    {
     "output_type": "execute_result",
     "data": {
      "text/plain": [
       "array([[[ 0,  1,  2,  3],\n",
       "        [ 8,  9, 10, 11]],\n",
       "\n",
       "       [[ 4,  5,  6,  7],\n",
       "        [12, 13, 14, 15]]])"
      ]
     },
     "metadata": {},
     "execution_count": 27
    }
   ],
   "source": [
    "arr.transpose((1, 0, 2))"
   ]
  },
  {
   "cell_type": "code",
   "execution_count": 28,
   "metadata": {},
   "outputs": [
    {
     "output_type": "execute_result",
     "data": {
      "text/plain": [
       "array([[[ 0,  4],\n",
       "        [ 1,  5],\n",
       "        [ 2,  6],\n",
       "        [ 3,  7]],\n",
       "\n",
       "       [[ 8, 12],\n",
       "        [ 9, 13],\n",
       "        [10, 14],\n",
       "        [11, 15]]])"
      ]
     },
     "metadata": {},
     "execution_count": 28
    }
   ],
   "source": [
    "arr.swapaxes(1,2) # 두개의 축번호를 받아서 배열을 뒤바꾼다."
   ]
  },
  {
   "source": [
    "# 4.2 ufunc:배열의 각 원소를 빠르게 처리하는 함수"
   ],
   "cell_type": "markdown",
   "metadata": {}
  },
  {
   "cell_type": "code",
   "execution_count": 31,
   "metadata": {},
   "outputs": [
    {
     "output_type": "stream",
     "name": "stdout",
     "text": [
      "[0 1 2 3 4 5 6 7 8 9]\n[0.         1.         1.41421356 1.73205081 2.         2.23606798\n 2.44948974 2.64575131 2.82842712 3.        ]\n[1.00000000e+00 2.71828183e+00 7.38905610e+00 2.00855369e+01\n 5.45981500e+01 1.48413159e+02 4.03428793e+02 1.09663316e+03\n 2.98095799e+03 8.10308393e+03]\n"
     ]
    }
   ],
   "source": [
    "arr = np.arange(10)\n",
    "print(arr)\n",
    "print(np.sqrt(arr))\n",
    "print(np.exp(arr))"
   ]
  },
  {
   "cell_type": "code",
   "execution_count": 32,
   "metadata": {},
   "outputs": [
    {
     "output_type": "stream",
     "name": "stdout",
     "text": [
      "[ 1.14824365  1.37493603 -0.04063665  0.67927808  0.49619148  1.44172946\n -0.07594479  0.88870314]\n"
     ]
    }
   ],
   "source": [
    "x = np.random.randn(8)\n",
    "y = np.random.randn(8)\n",
    "print(np.maximum(x, y)) # x, y의 원소별로 가장 큰 값을 계산"
   ]
  },
  {
   "cell_type": "code",
   "execution_count": 34,
   "metadata": {},
   "outputs": [
    {
     "output_type": "stream",
     "name": "stdout",
     "text": [
      "[ 6.34924591 -6.14332266  0.07548468  1.41644034 -6.62010779 -6.89626922\n -6.99467983]\n[ 6.34924591 -6.14332266  0.07548468  1.41644034 -6.62010779 -6.89626922\n -6.99467983]\n[ 0.34924591 -0.14332266  0.07548468  0.41644034 -0.62010779 -0.89626922\n -0.99467983]\n[ 6. -6.  0.  1. -6. -6. -6.]\n"
     ]
    }
   ],
   "source": [
    "arr = np.random.randn(7)*5\n",
    "print(arr)\n",
    "r = np.random.randn(7)*5\n",
    "print(arr)\n",
    "remainder, whole_part = np.modf(arr) # 분수를 받아서 몫과 나머지를 함께 반환\n",
    "print(remainder)\n",
    "print(whole_part)"
   ]
  },
  {
   "cell_type": "code",
   "execution_count": 35,
   "metadata": {},
   "outputs": [
    {
     "output_type": "stream",
     "name": "stdout",
     "text": [
      "[ 6.34924591 -6.14332266  0.07548468  1.41644034 -6.62010779 -6.89626922\n",
      " -6.99467983]\n",
      "[2.519771          nan 0.27474476 1.19014299        nan        nan\n",
      "        nan]\n",
      "[2.519771          nan 0.27474476 1.19014299        nan        nan\n",
      "        nan]\n",
      "ipykernel_launcher:2: RuntimeWarning: invalid value encountered in sqrt\n",
      "ipykernel_launcher:3: RuntimeWarning: invalid value encountered in sqrt\n"
     ]
    }
   ],
   "source": [
    "print(arr)\n",
    "print(np.sqrt(arr))\n",
    "print(np.sqrt(arr, arr))"
   ]
  },
  {
   "source": [
    "# 4.3 배열을 이용한 배열지향 프로그래밍"
   ],
   "cell_type": "markdown",
   "metadata": {}
  },
  {
   "cell_type": "code",
   "execution_count": 36,
   "metadata": {},
   "outputs": [
    {
     "output_type": "execute_result",
     "data": {
      "text/plain": [
       "array([[-5.  , -5.  , -5.  , ..., -5.  , -5.  , -5.  ],\n",
       "       [-4.99, -4.99, -4.99, ..., -4.99, -4.99, -4.99],\n",
       "       [-4.98, -4.98, -4.98, ..., -4.98, -4.98, -4.98],\n",
       "       ...,\n",
       "       [ 4.97,  4.97,  4.97, ...,  4.97,  4.97,  4.97],\n",
       "       [ 4.98,  4.98,  4.98, ...,  4.98,  4.98,  4.98],\n",
       "       [ 4.99,  4.99,  4.99, ...,  4.99,  4.99,  4.99]])"
      ]
     },
     "metadata": {},
     "execution_count": 36
    }
   ],
   "source": [
    "points = np.arange(-5, 5, 0.01) # -5부터 4.99까지 0.01씩 증가하는 값들의 배열\n",
    "xs, ys = np.meshgrid(points, points)\n",
    "ys"
   ]
  },
  {
   "cell_type": "code",
   "execution_count": 37,
   "metadata": {},
   "outputs": [
    {
     "output_type": "execute_result",
     "data": {
      "text/plain": [
       "array([[7.07106781, 7.06400028, 7.05693985, ..., 7.04988652, 7.05693985,\n",
       "        7.06400028],\n",
       "       [7.06400028, 7.05692568, 7.04985815, ..., 7.04279774, 7.04985815,\n",
       "        7.05692568],\n",
       "       [7.05693985, 7.04985815, 7.04278354, ..., 7.03571603, 7.04278354,\n",
       "        7.04985815],\n",
       "       ...,\n",
       "       [7.04988652, 7.04279774, 7.03571603, ..., 7.0286414 , 7.03571603,\n",
       "        7.04279774],\n",
       "       [7.05693985, 7.04985815, 7.04278354, ..., 7.03571603, 7.04278354,\n",
       "        7.04985815],\n",
       "       [7.06400028, 7.05692568, 7.04985815, ..., 7.04279774, 7.04985815,\n",
       "        7.05692568]])"
      ]
     },
     "metadata": {},
     "execution_count": 37
    }
   ],
   "source": [
    "z = np.sqrt(xs**2 + ys**2)\n",
    "z"
   ]
  },
  {
   "cell_type": "code",
   "execution_count": 39,
   "metadata": {},
   "outputs": [
    {
     "output_type": "execute_result",
     "data": {
      "text/plain": [
       "Text(0.5, 1.0, 'Image plot of $\\\\sqrt{x^2+y^2}$ for a grid of values')"
      ]
     },
     "metadata": {},
     "execution_count": 39
    },
    {
     "output_type": "display_data",
     "data": {
      "text/plain": "<Figure size 432x288 with 2 Axes>",
      "image/svg+xml": "<?xml version=\"1.0\" encoding=\"utf-8\" standalone=\"no\"?>\r\n<!DOCTYPE svg PUBLIC \"-//W3C//DTD SVG 1.1//EN\"\r\n  \"http://www.w3.org/Graphics/SVG/1.1/DTD/svg11.dtd\">\r\n<!-- Created with matplotlib (https://matplotlib.org/) -->\r\n<svg height=\"269.878125pt\" version=\"1.1\" viewBox=\"0 0 298.902 269.878125\" width=\"298.902pt\" xmlns=\"http://www.w3.org/2000/svg\" xmlns:xlink=\"http://www.w3.org/1999/xlink\">\r\n <metadata>\r\n  <rdf:RDF xmlns:cc=\"http://creativecommons.org/ns#\" xmlns:dc=\"http://purl.org/dc/elements/1.1/\" xmlns:rdf=\"http://www.w3.org/1999/02/22-rdf-syntax-ns#\">\r\n   <cc:Work>\r\n    <dc:type rdf:resource=\"http://purl.org/dc/dcmitype/StillImage\"/>\r\n    <dc:date>2021-05-04T18:08:59.485766</dc:date>\r\n    <dc:format>image/svg+xml</dc:format>\r\n    <dc:creator>\r\n     <cc:Agent>\r\n      <dc:title>Matplotlib v3.3.4, https://matplotlib.org/</dc:title>\r\n     </cc:Agent>\r\n    </dc:creator>\r\n   </cc:Work>\r\n  </rdf:RDF>\r\n </metadata>\r\n <defs>\r\n  <style type=\"text/css\">*{stroke-linecap:butt;stroke-linejoin:round;}</style>\r\n </defs>\r\n <g id=\"figure_1\">\r\n  <g id=\"patch_1\">\r\n   <path d=\"M 0 269.878125 \r\nL 298.902 269.878125 \r\nL 298.902 0 \r\nL 0 0 \r\nz\r\n\" style=\"fill:none;\"/>\r\n  </g>\r\n  <g id=\"axes_1\">\r\n   <g id=\"patch_2\">\r\n    <path d=\"M 33.2875 246 \r\nL 250.7275 246 \r\nL 250.7275 28.56 \r\nL 33.2875 28.56 \r\nz\r\n\" style=\"fill:#ffffff;\"/>\r\n   </g>\r\n   <g clip-path=\"url(#pf32508c0d6)\">\r\n    <image height=\"218\" id=\"imaged9caa0a98f\" transform=\"scale(1 -1)translate(0 -218)\" width=\"218\" x=\"33.2875\" xlink:href=\"data:image/png;base64,\r\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\" y=\"-28\"/>\r\n   </g>\r\n   <g id=\"matplotlib.axis_1\">\r\n    <g id=\"xtick_1\">\r\n     <g id=\"line2d_1\">\r\n      <defs>\r\n       <path d=\"M 0 0 \r\nL 0 3.5 \r\n\" id=\"mb267141e43\" style=\"stroke:#000000;stroke-width:0.8;\"/>\r\n      </defs>\r\n      <g>\r\n       <use style=\"stroke:#000000;stroke-width:0.8;\" x=\"33.39622\" xlink:href=\"#mb267141e43\" y=\"246\"/>\r\n      </g>\r\n     </g>\r\n     <g id=\"text_1\">\r\n      <!-- 0 -->\r\n      <g transform=\"translate(30.21497 260.598437)scale(0.1 -0.1)\">\r\n       <defs>\r\n        <path d=\"M 31.78125 66.40625 \r\nQ 24.171875 66.40625 20.328125 58.90625 \r\nQ 16.5 51.421875 16.5 36.375 \r\nQ 16.5 21.390625 20.328125 13.890625 \r\nQ 24.171875 6.390625 31.78125 6.390625 \r\nQ 39.453125 6.390625 43.28125 13.890625 \r\nQ 47.125 21.390625 47.125 36.375 \r\nQ 47.125 51.421875 43.28125 58.90625 \r\nQ 39.453125 66.40625 31.78125 66.40625 \r\nz\r\nM 31.78125 74.21875 \r\nQ 44.046875 74.21875 50.515625 64.515625 \r\nQ 56.984375 54.828125 56.984375 36.375 \r\nQ 56.984375 17.96875 50.515625 8.265625 \r\nQ 44.046875 -1.421875 31.78125 -1.421875 \r\nQ 19.53125 -1.421875 13.0625 8.265625 \r\nQ 6.59375 17.96875 6.59375 36.375 \r\nQ 6.59375 54.828125 13.0625 64.515625 \r\nQ 19.53125 74.21875 31.78125 74.21875 \r\nz\r\n\" id=\"DejaVuSans-48\"/>\r\n       </defs>\r\n       <use xlink:href=\"#DejaVuSans-48\"/>\r\n      </g>\r\n     </g>\r\n    </g>\r\n    <g id=\"xtick_2\">\r\n     <g id=\"line2d_2\">\r\n      <g>\r\n       <use style=\"stroke:#000000;stroke-width:0.8;\" x=\"76.88422\" xlink:href=\"#mb267141e43\" y=\"246\"/>\r\n      </g>\r\n     </g>\r\n     <g id=\"text_2\">\r\n      <!-- 200 -->\r\n      <g transform=\"translate(67.34047 260.598437)scale(0.1 -0.1)\">\r\n       <defs>\r\n        <path d=\"M 19.1875 8.296875 \r\nL 53.609375 8.296875 \r\nL 53.609375 0 \r\nL 7.328125 0 \r\nL 7.328125 8.296875 \r\nQ 12.9375 14.109375 22.625 23.890625 \r\nQ 32.328125 33.6875 34.8125 36.53125 \r\nQ 39.546875 41.84375 41.421875 45.53125 \r\nQ 43.3125 49.21875 43.3125 52.78125 \r\nQ 43.3125 58.59375 39.234375 62.25 \r\nQ 35.15625 65.921875 28.609375 65.921875 \r\nQ 23.96875 65.921875 18.8125 64.3125 \r\nQ 13.671875 62.703125 7.8125 59.421875 \r\nL 7.8125 69.390625 \r\nQ 13.765625 71.78125 18.9375 73 \r\nQ 24.125 74.21875 28.421875 74.21875 \r\nQ 39.75 74.21875 46.484375 68.546875 \r\nQ 53.21875 62.890625 53.21875 53.421875 \r\nQ 53.21875 48.921875 51.53125 44.890625 \r\nQ 49.859375 40.875 45.40625 35.40625 \r\nQ 44.1875 33.984375 37.640625 27.21875 \r\nQ 31.109375 20.453125 19.1875 8.296875 \r\nz\r\n\" id=\"DejaVuSans-50\"/>\r\n       </defs>\r\n       <use xlink:href=\"#DejaVuSans-50\"/>\r\n       <use x=\"63.623047\" xlink:href=\"#DejaVuSans-48\"/>\r\n       <use x=\"127.246094\" xlink:href=\"#DejaVuSans-48\"/>\r\n      </g>\r\n     </g>\r\n    </g>\r\n    <g id=\"xtick_3\">\r\n     <g id=\"line2d_3\">\r\n      <g>\r\n       <use style=\"stroke:#000000;stroke-width:0.8;\" x=\"120.37222\" xlink:href=\"#mb267141e43\" y=\"246\"/>\r\n      </g>\r\n     </g>\r\n     <g id=\"text_3\">\r\n      <!-- 400 -->\r\n      <g transform=\"translate(110.82847 260.598437)scale(0.1 -0.1)\">\r\n       <defs>\r\n        <path d=\"M 37.796875 64.3125 \r\nL 12.890625 25.390625 \r\nL 37.796875 25.390625 \r\nz\r\nM 35.203125 72.90625 \r\nL 47.609375 72.90625 \r\nL 47.609375 25.390625 \r\nL 58.015625 25.390625 \r\nL 58.015625 17.1875 \r\nL 47.609375 17.1875 \r\nL 47.609375 0 \r\nL 37.796875 0 \r\nL 37.796875 17.1875 \r\nL 4.890625 17.1875 \r\nL 4.890625 26.703125 \r\nz\r\n\" id=\"DejaVuSans-52\"/>\r\n       </defs>\r\n       <use xlink:href=\"#DejaVuSans-52\"/>\r\n       <use x=\"63.623047\" xlink:href=\"#DejaVuSans-48\"/>\r\n       <use x=\"127.246094\" xlink:href=\"#DejaVuSans-48\"/>\r\n      </g>\r\n     </g>\r\n    </g>\r\n    <g id=\"xtick_4\">\r\n     <g id=\"line2d_4\">\r\n      <g>\r\n       <use style=\"stroke:#000000;stroke-width:0.8;\" x=\"163.86022\" xlink:href=\"#mb267141e43\" y=\"246\"/>\r\n      </g>\r\n     </g>\r\n     <g id=\"text_4\">\r\n      <!-- 600 -->\r\n      <g transform=\"translate(154.31647 260.598437)scale(0.1 -0.1)\">\r\n       <defs>\r\n        <path d=\"M 33.015625 40.375 \r\nQ 26.375 40.375 22.484375 35.828125 \r\nQ 18.609375 31.296875 18.609375 23.390625 \r\nQ 18.609375 15.53125 22.484375 10.953125 \r\nQ 26.375 6.390625 33.015625 6.390625 \r\nQ 39.65625 6.390625 43.53125 10.953125 \r\nQ 47.40625 15.53125 47.40625 23.390625 \r\nQ 47.40625 31.296875 43.53125 35.828125 \r\nQ 39.65625 40.375 33.015625 40.375 \r\nz\r\nM 52.59375 71.296875 \r\nL 52.59375 62.3125 \r\nQ 48.875 64.0625 45.09375 64.984375 \r\nQ 41.3125 65.921875 37.59375 65.921875 \r\nQ 27.828125 65.921875 22.671875 59.328125 \r\nQ 17.53125 52.734375 16.796875 39.40625 \r\nQ 19.671875 43.65625 24.015625 45.921875 \r\nQ 28.375 48.1875 33.59375 48.1875 \r\nQ 44.578125 48.1875 50.953125 41.515625 \r\nQ 57.328125 34.859375 57.328125 23.390625 \r\nQ 57.328125 12.15625 50.6875 5.359375 \r\nQ 44.046875 -1.421875 33.015625 -1.421875 \r\nQ 20.359375 -1.421875 13.671875 8.265625 \r\nQ 6.984375 17.96875 6.984375 36.375 \r\nQ 6.984375 53.65625 15.1875 63.9375 \r\nQ 23.390625 74.21875 37.203125 74.21875 \r\nQ 40.921875 74.21875 44.703125 73.484375 \r\nQ 48.484375 72.75 52.59375 71.296875 \r\nz\r\n\" id=\"DejaVuSans-54\"/>\r\n       </defs>\r\n       <use xlink:href=\"#DejaVuSans-54\"/>\r\n       <use x=\"63.623047\" xlink:href=\"#DejaVuSans-48\"/>\r\n       <use x=\"127.246094\" xlink:href=\"#DejaVuSans-48\"/>\r\n      </g>\r\n     </g>\r\n    </g>\r\n    <g id=\"xtick_5\">\r\n     <g id=\"line2d_5\">\r\n      <g>\r\n       <use style=\"stroke:#000000;stroke-width:0.8;\" x=\"207.34822\" xlink:href=\"#mb267141e43\" y=\"246\"/>\r\n      </g>\r\n     </g>\r\n     <g id=\"text_5\">\r\n      <!-- 800 -->\r\n      <g transform=\"translate(197.80447 260.598437)scale(0.1 -0.1)\">\r\n       <defs>\r\n        <path d=\"M 31.78125 34.625 \r\nQ 24.75 34.625 20.71875 30.859375 \r\nQ 16.703125 27.09375 16.703125 20.515625 \r\nQ 16.703125 13.921875 20.71875 10.15625 \r\nQ 24.75 6.390625 31.78125 6.390625 \r\nQ 38.8125 6.390625 42.859375 10.171875 \r\nQ 46.921875 13.96875 46.921875 20.515625 \r\nQ 46.921875 27.09375 42.890625 30.859375 \r\nQ 38.875 34.625 31.78125 34.625 \r\nz\r\nM 21.921875 38.8125 \r\nQ 15.578125 40.375 12.03125 44.71875 \r\nQ 8.5 49.078125 8.5 55.328125 \r\nQ 8.5 64.0625 14.71875 69.140625 \r\nQ 20.953125 74.21875 31.78125 74.21875 \r\nQ 42.671875 74.21875 48.875 69.140625 \r\nQ 55.078125 64.0625 55.078125 55.328125 \r\nQ 55.078125 49.078125 51.53125 44.71875 \r\nQ 48 40.375 41.703125 38.8125 \r\nQ 48.828125 37.15625 52.796875 32.3125 \r\nQ 56.78125 27.484375 56.78125 20.515625 \r\nQ 56.78125 9.90625 50.3125 4.234375 \r\nQ 43.84375 -1.421875 31.78125 -1.421875 \r\nQ 19.734375 -1.421875 13.25 4.234375 \r\nQ 6.78125 9.90625 6.78125 20.515625 \r\nQ 6.78125 27.484375 10.78125 32.3125 \r\nQ 14.796875 37.15625 21.921875 38.8125 \r\nz\r\nM 18.3125 54.390625 \r\nQ 18.3125 48.734375 21.84375 45.5625 \r\nQ 25.390625 42.390625 31.78125 42.390625 \r\nQ 38.140625 42.390625 41.71875 45.5625 \r\nQ 45.3125 48.734375 45.3125 54.390625 \r\nQ 45.3125 60.0625 41.71875 63.234375 \r\nQ 38.140625 66.40625 31.78125 66.40625 \r\nQ 25.390625 66.40625 21.84375 63.234375 \r\nQ 18.3125 60.0625 18.3125 54.390625 \r\nz\r\n\" id=\"DejaVuSans-56\"/>\r\n       </defs>\r\n       <use xlink:href=\"#DejaVuSans-56\"/>\r\n       <use x=\"63.623047\" xlink:href=\"#DejaVuSans-48\"/>\r\n       <use x=\"127.246094\" xlink:href=\"#DejaVuSans-48\"/>\r\n      </g>\r\n     </g>\r\n    </g>\r\n   </g>\r\n   <g id=\"matplotlib.axis_2\">\r\n    <g id=\"ytick_1\">\r\n     <g id=\"line2d_6\">\r\n      <defs>\r\n       <path d=\"M 0 0 \r\nL -3.5 0 \r\n\" id=\"mc413ed33a6\" style=\"stroke:#000000;stroke-width:0.8;\"/>\r\n      </defs>\r\n      <g>\r\n       <use style=\"stroke:#000000;stroke-width:0.8;\" x=\"33.2875\" xlink:href=\"#mc413ed33a6\" y=\"28.66872\"/>\r\n      </g>\r\n     </g>\r\n     <g id=\"text_6\">\r\n      <!-- 0 -->\r\n      <g transform=\"translate(19.925 32.467939)scale(0.1 -0.1)\">\r\n       <use xlink:href=\"#DejaVuSans-48\"/>\r\n      </g>\r\n     </g>\r\n    </g>\r\n    <g id=\"ytick_2\">\r\n     <g id=\"line2d_7\">\r\n      <g>\r\n       <use style=\"stroke:#000000;stroke-width:0.8;\" x=\"33.2875\" xlink:href=\"#mc413ed33a6\" y=\"72.15672\"/>\r\n      </g>\r\n     </g>\r\n     <g id=\"text_7\">\r\n      <!-- 200 -->\r\n      <g transform=\"translate(7.2 75.955939)scale(0.1 -0.1)\">\r\n       <use xlink:href=\"#DejaVuSans-50\"/>\r\n       <use x=\"63.623047\" xlink:href=\"#DejaVuSans-48\"/>\r\n       <use x=\"127.246094\" xlink:href=\"#DejaVuSans-48\"/>\r\n      </g>\r\n     </g>\r\n    </g>\r\n    <g id=\"ytick_3\">\r\n     <g id=\"line2d_8\">\r\n      <g>\r\n       <use style=\"stroke:#000000;stroke-width:0.8;\" x=\"33.2875\" xlink:href=\"#mc413ed33a6\" y=\"115.64472\"/>\r\n      </g>\r\n     </g>\r\n     <g id=\"text_8\">\r\n      <!-- 400 -->\r\n      <g transform=\"translate(7.2 119.443939)scale(0.1 -0.1)\">\r\n       <use xlink:href=\"#DejaVuSans-52\"/>\r\n       <use x=\"63.623047\" xlink:href=\"#DejaVuSans-48\"/>\r\n       <use x=\"127.246094\" xlink:href=\"#DejaVuSans-48\"/>\r\n      </g>\r\n     </g>\r\n    </g>\r\n    <g id=\"ytick_4\">\r\n     <g id=\"line2d_9\">\r\n      <g>\r\n       <use style=\"stroke:#000000;stroke-width:0.8;\" x=\"33.2875\" xlink:href=\"#mc413ed33a6\" y=\"159.13272\"/>\r\n      </g>\r\n     </g>\r\n     <g id=\"text_9\">\r\n      <!-- 600 -->\r\n      <g transform=\"translate(7.2 162.931939)scale(0.1 -0.1)\">\r\n       <use xlink:href=\"#DejaVuSans-54\"/>\r\n       <use x=\"63.623047\" xlink:href=\"#DejaVuSans-48\"/>\r\n       <use x=\"127.246094\" xlink:href=\"#DejaVuSans-48\"/>\r\n      </g>\r\n     </g>\r\n    </g>\r\n    <g id=\"ytick_5\">\r\n     <g id=\"line2d_10\">\r\n      <g>\r\n       <use style=\"stroke:#000000;stroke-width:0.8;\" x=\"33.2875\" xlink:href=\"#mc413ed33a6\" y=\"202.62072\"/>\r\n      </g>\r\n     </g>\r\n     <g id=\"text_10\">\r\n      <!-- 800 -->\r\n      <g transform=\"translate(7.2 206.419939)scale(0.1 -0.1)\">\r\n       <use xlink:href=\"#DejaVuSans-56\"/>\r\n       <use x=\"63.623047\" xlink:href=\"#DejaVuSans-48\"/>\r\n       <use x=\"127.246094\" xlink:href=\"#DejaVuSans-48\"/>\r\n      </g>\r\n     </g>\r\n    </g>\r\n   </g>\r\n   <g id=\"patch_3\">\r\n    <path d=\"M 33.2875 246 \r\nL 33.2875 28.56 \r\n\" style=\"fill:none;stroke:#000000;stroke-linecap:square;stroke-linejoin:miter;stroke-width:0.8;\"/>\r\n   </g>\r\n   <g id=\"patch_4\">\r\n    <path d=\"M 250.7275 246 \r\nL 250.7275 28.56 \r\n\" style=\"fill:none;stroke:#000000;stroke-linecap:square;stroke-linejoin:miter;stroke-width:0.8;\"/>\r\n   </g>\r\n   <g id=\"patch_5\">\r\n    <path d=\"M 33.2875 246 \r\nL 250.7275 246 \r\n\" style=\"fill:none;stroke:#000000;stroke-linecap:square;stroke-linejoin:miter;stroke-width:0.8;\"/>\r\n   </g>\r\n   <g id=\"patch_6\">\r\n    <path d=\"M 33.2875 28.56 \r\nL 250.7275 28.56 \r\n\" style=\"fill:none;stroke:#000000;stroke-linecap:square;stroke-linejoin:miter;stroke-width:0.8;\"/>\r\n   </g>\r\n   <g id=\"text_11\">\r\n    <!-- Image plot of $\\sqrt{x^2+y^2}$ for a grid of values -->\r\n    <g transform=\"translate(14.8075 22.56)scale(0.12 -0.12)\">\r\n     <defs>\r\n      <path d=\"M 9.8125 72.90625 \r\nL 19.671875 72.90625 \r\nL 19.671875 0 \r\nL 9.8125 0 \r\nz\r\n\" id=\"DejaVuSans-73\"/>\r\n      <path d=\"M 52 44.1875 \r\nQ 55.375 50.25 60.0625 53.125 \r\nQ 64.75 56 71.09375 56 \r\nQ 79.640625 56 84.28125 50.015625 \r\nQ 88.921875 44.046875 88.921875 33.015625 \r\nL 88.921875 0 \r\nL 79.890625 0 \r\nL 79.890625 32.71875 \r\nQ 79.890625 40.578125 77.09375 44.375 \r\nQ 74.3125 48.1875 68.609375 48.1875 \r\nQ 61.625 48.1875 57.5625 43.546875 \r\nQ 53.515625 38.921875 53.515625 30.90625 \r\nL 53.515625 0 \r\nL 44.484375 0 \r\nL 44.484375 32.71875 \r\nQ 44.484375 40.625 41.703125 44.40625 \r\nQ 38.921875 48.1875 33.109375 48.1875 \r\nQ 26.21875 48.1875 22.15625 43.53125 \r\nQ 18.109375 38.875 18.109375 30.90625 \r\nL 18.109375 0 \r\nL 9.078125 0 \r\nL 9.078125 54.6875 \r\nL 18.109375 54.6875 \r\nL 18.109375 46.1875 \r\nQ 21.1875 51.21875 25.484375 53.609375 \r\nQ 29.78125 56 35.6875 56 \r\nQ 41.65625 56 45.828125 52.96875 \r\nQ 50 49.953125 52 44.1875 \r\nz\r\n\" id=\"DejaVuSans-109\"/>\r\n      <path d=\"M 34.28125 27.484375 \r\nQ 23.390625 27.484375 19.1875 25 \r\nQ 14.984375 22.515625 14.984375 16.5 \r\nQ 14.984375 11.71875 18.140625 8.90625 \r\nQ 21.296875 6.109375 26.703125 6.109375 \r\nQ 34.1875 6.109375 38.703125 11.40625 \r\nQ 43.21875 16.703125 43.21875 25.484375 \r\nL 43.21875 27.484375 \r\nz\r\nM 52.203125 31.203125 \r\nL 52.203125 0 \r\nL 43.21875 0 \r\nL 43.21875 8.296875 \r\nQ 40.140625 3.328125 35.546875 0.953125 \r\nQ 30.953125 -1.421875 24.3125 -1.421875 \r\nQ 15.921875 -1.421875 10.953125 3.296875 \r\nQ 6 8.015625 6 15.921875 \r\nQ 6 25.140625 12.171875 29.828125 \r\nQ 18.359375 34.515625 30.609375 34.515625 \r\nL 43.21875 34.515625 \r\nL 43.21875 35.40625 \r\nQ 43.21875 41.609375 39.140625 45 \r\nQ 35.0625 48.390625 27.6875 48.390625 \r\nQ 23 48.390625 18.546875 47.265625 \r\nQ 14.109375 46.140625 10.015625 43.890625 \r\nL 10.015625 52.203125 \r\nQ 14.9375 54.109375 19.578125 55.046875 \r\nQ 24.21875 56 28.609375 56 \r\nQ 40.484375 56 46.34375 49.84375 \r\nQ 52.203125 43.703125 52.203125 31.203125 \r\nz\r\n\" id=\"DejaVuSans-97\"/>\r\n      <path d=\"M 45.40625 27.984375 \r\nQ 45.40625 37.75 41.375 43.109375 \r\nQ 37.359375 48.484375 30.078125 48.484375 \r\nQ 22.859375 48.484375 18.828125 43.109375 \r\nQ 14.796875 37.75 14.796875 27.984375 \r\nQ 14.796875 18.265625 18.828125 12.890625 \r\nQ 22.859375 7.515625 30.078125 7.515625 \r\nQ 37.359375 7.515625 41.375 12.890625 \r\nQ 45.40625 18.265625 45.40625 27.984375 \r\nz\r\nM 54.390625 6.78125 \r\nQ 54.390625 -7.171875 48.1875 -13.984375 \r\nQ 42 -20.796875 29.203125 -20.796875 \r\nQ 24.46875 -20.796875 20.265625 -20.09375 \r\nQ 16.0625 -19.390625 12.109375 -17.921875 \r\nL 12.109375 -9.1875 \r\nQ 16.0625 -11.328125 19.921875 -12.34375 \r\nQ 23.78125 -13.375 27.78125 -13.375 \r\nQ 36.625 -13.375 41.015625 -8.765625 \r\nQ 45.40625 -4.15625 45.40625 5.171875 \r\nL 45.40625 9.625 \r\nQ 42.625 4.78125 38.28125 2.390625 \r\nQ 33.9375 0 27.875 0 \r\nQ 17.828125 0 11.671875 7.65625 \r\nQ 5.515625 15.328125 5.515625 27.984375 \r\nQ 5.515625 40.671875 11.671875 48.328125 \r\nQ 17.828125 56 27.875 56 \r\nQ 33.9375 56 38.28125 53.609375 \r\nQ 42.625 51.21875 45.40625 46.390625 \r\nL 45.40625 54.6875 \r\nL 54.390625 54.6875 \r\nz\r\n\" id=\"DejaVuSans-103\"/>\r\n      <path d=\"M 56.203125 29.59375 \r\nL 56.203125 25.203125 \r\nL 14.890625 25.203125 \r\nQ 15.484375 15.921875 20.484375 11.0625 \r\nQ 25.484375 6.203125 34.421875 6.203125 \r\nQ 39.59375 6.203125 44.453125 7.46875 \r\nQ 49.3125 8.734375 54.109375 11.28125 \r\nL 54.109375 2.78125 \r\nQ 49.265625 0.734375 44.1875 -0.34375 \r\nQ 39.109375 -1.421875 33.890625 -1.421875 \r\nQ 20.796875 -1.421875 13.15625 6.1875 \r\nQ 5.515625 13.8125 5.515625 26.8125 \r\nQ 5.515625 40.234375 12.765625 48.109375 \r\nQ 20.015625 56 32.328125 56 \r\nQ 43.359375 56 49.78125 48.890625 \r\nQ 56.203125 41.796875 56.203125 29.59375 \r\nz\r\nM 47.21875 32.234375 \r\nQ 47.125 39.59375 43.09375 43.984375 \r\nQ 39.0625 48.390625 32.421875 48.390625 \r\nQ 24.90625 48.390625 20.390625 44.140625 \r\nQ 15.875 39.890625 15.1875 32.171875 \r\nz\r\n\" id=\"DejaVuSans-101\"/>\r\n      <path id=\"DejaVuSans-32\"/>\r\n      <path d=\"M 18.109375 8.203125 \r\nL 18.109375 -20.796875 \r\nL 9.078125 -20.796875 \r\nL 9.078125 54.6875 \r\nL 18.109375 54.6875 \r\nL 18.109375 46.390625 \r\nQ 20.953125 51.265625 25.265625 53.625 \r\nQ 29.59375 56 35.59375 56 \r\nQ 45.5625 56 51.78125 48.09375 \r\nQ 58.015625 40.1875 58.015625 27.296875 \r\nQ 58.015625 14.40625 51.78125 6.484375 \r\nQ 45.5625 -1.421875 35.59375 -1.421875 \r\nQ 29.59375 -1.421875 25.265625 0.953125 \r\nQ 20.953125 3.328125 18.109375 8.203125 \r\nz\r\nM 48.6875 27.296875 \r\nQ 48.6875 37.203125 44.609375 42.84375 \r\nQ 40.53125 48.484375 33.40625 48.484375 \r\nQ 26.265625 48.484375 22.1875 42.84375 \r\nQ 18.109375 37.203125 18.109375 27.296875 \r\nQ 18.109375 17.390625 22.1875 11.75 \r\nQ 26.265625 6.109375 33.40625 6.109375 \r\nQ 40.53125 6.109375 44.609375 11.75 \r\nQ 48.6875 17.390625 48.6875 27.296875 \r\nz\r\n\" id=\"DejaVuSans-112\"/>\r\n      <path d=\"M 9.421875 75.984375 \r\nL 18.40625 75.984375 \r\nL 18.40625 0 \r\nL 9.421875 0 \r\nz\r\n\" id=\"DejaVuSans-108\"/>\r\n      <path d=\"M 30.609375 48.390625 \r\nQ 23.390625 48.390625 19.1875 42.75 \r\nQ 14.984375 37.109375 14.984375 27.296875 \r\nQ 14.984375 17.484375 19.15625 11.84375 \r\nQ 23.34375 6.203125 30.609375 6.203125 \r\nQ 37.796875 6.203125 41.984375 11.859375 \r\nQ 46.1875 17.53125 46.1875 27.296875 \r\nQ 46.1875 37.015625 41.984375 42.703125 \r\nQ 37.796875 48.390625 30.609375 48.390625 \r\nz\r\nM 30.609375 56 \r\nQ 42.328125 56 49.015625 48.375 \r\nQ 55.71875 40.765625 55.71875 27.296875 \r\nQ 55.71875 13.875 49.015625 6.21875 \r\nQ 42.328125 -1.421875 30.609375 -1.421875 \r\nQ 18.84375 -1.421875 12.171875 6.21875 \r\nQ 5.515625 13.875 5.515625 27.296875 \r\nQ 5.515625 40.765625 12.171875 48.375 \r\nQ 18.84375 56 30.609375 56 \r\nz\r\n\" id=\"DejaVuSans-111\"/>\r\n      <path d=\"M 18.3125 70.21875 \r\nL 18.3125 54.6875 \r\nL 36.8125 54.6875 \r\nL 36.8125 47.703125 \r\nL 18.3125 47.703125 \r\nL 18.3125 18.015625 \r\nQ 18.3125 11.328125 20.140625 9.421875 \r\nQ 21.96875 7.515625 27.59375 7.515625 \r\nL 36.8125 7.515625 \r\nL 36.8125 0 \r\nL 27.59375 0 \r\nQ 17.1875 0 13.234375 3.875 \r\nQ 9.28125 7.765625 9.28125 18.015625 \r\nL 9.28125 47.703125 \r\nL 2.6875 47.703125 \r\nL 2.6875 54.6875 \r\nL 9.28125 54.6875 \r\nL 9.28125 70.21875 \r\nz\r\n\" id=\"DejaVuSans-116\"/>\r\n      <path d=\"M 37.109375 75.984375 \r\nL 37.109375 68.5 \r\nL 28.515625 68.5 \r\nQ 23.6875 68.5 21.796875 66.546875 \r\nQ 19.921875 64.59375 19.921875 59.515625 \r\nL 19.921875 54.6875 \r\nL 34.71875 54.6875 \r\nL 34.71875 47.703125 \r\nL 19.921875 47.703125 \r\nL 19.921875 0 \r\nL 10.890625 0 \r\nL 10.890625 47.703125 \r\nL 2.296875 47.703125 \r\nL 2.296875 54.6875 \r\nL 10.890625 54.6875 \r\nL 10.890625 58.5 \r\nQ 10.890625 67.625 15.140625 71.796875 \r\nQ 19.390625 75.984375 28.609375 75.984375 \r\nz\r\n\" id=\"DejaVuSans-102\"/>\r\n      <path d=\"M 108.90625 155.203125 \r\nL 52.703125 -29.5 \r\nL 48.5 -29.5 \r\nL 25.40625 45.59375 \r\nQ 24.296875 49.203125 22.890625 50.796875 \r\nQ 21.5 52.40625 19.203125 52.40625 \r\nQ 15.796875 52.40625 12.40625 49.703125 \r\nL 11.203125 51.703125 \r\nL 27.59375 64.296875 \r\nL 30.09375 64.296875 \r\nL 52.796875 -9.40625 \r\nL 53.203125 -9.40625 \r\nL 103.203125 155.203125 \r\nz\r\n\" id=\"STIXSizeOneSym-Regular-8730\"/>\r\n      <path d=\"M 60.015625 54.6875 \r\nL 34.90625 27.875 \r\nL 50.296875 0 \r\nL 39.984375 0 \r\nL 28.421875 21.6875 \r\nL 8.296875 0 \r\nL -2.59375 0 \r\nL 24.3125 28.8125 \r\nL 10.015625 54.6875 \r\nL 20.3125 54.6875 \r\nL 30.8125 34.90625 \r\nL 49.125 54.6875 \r\nz\r\n\" id=\"DejaVuSans-Oblique-120\"/>\r\n      <path d=\"M 46 62.703125 \r\nL 46 35.5 \r\nL 73.1875 35.5 \r\nL 73.1875 27.203125 \r\nL 46 27.203125 \r\nL 46 0 \r\nL 37.796875 0 \r\nL 37.796875 27.203125 \r\nL 10.59375 27.203125 \r\nL 10.59375 35.5 \r\nL 37.796875 35.5 \r\nL 37.796875 62.703125 \r\nz\r\n\" id=\"DejaVuSans-43\"/>\r\n      <path d=\"M 24.8125 -5.078125 \r\nQ 18.5625 -15.578125 14.625 -18.1875 \r\nQ 10.6875 -20.796875 4.59375 -20.796875 \r\nL -2.484375 -20.796875 \r\nL -0.984375 -13.28125 \r\nL 4.203125 -13.28125 \r\nQ 7.953125 -13.28125 10.59375 -11.234375 \r\nQ 13.234375 -9.1875 16.5 -3.21875 \r\nL 19.28125 2 \r\nL 7.171875 54.6875 \r\nL 16.703125 54.6875 \r\nL 25.78125 12.796875 \r\nL 50.875 54.6875 \r\nL 60.296875 54.6875 \r\nz\r\n\" id=\"DejaVuSans-Oblique-121\"/>\r\n      <path d=\"M 41.109375 46.296875 \r\nQ 39.59375 47.171875 37.8125 47.578125 \r\nQ 36.03125 48 33.890625 48 \r\nQ 26.265625 48 22.1875 43.046875 \r\nQ 18.109375 38.09375 18.109375 28.8125 \r\nL 18.109375 0 \r\nL 9.078125 0 \r\nL 9.078125 54.6875 \r\nL 18.109375 54.6875 \r\nL 18.109375 46.1875 \r\nQ 20.953125 51.171875 25.484375 53.578125 \r\nQ 30.03125 56 36.53125 56 \r\nQ 37.453125 56 38.578125 55.875 \r\nQ 39.703125 55.765625 41.0625 55.515625 \r\nz\r\n\" id=\"DejaVuSans-114\"/>\r\n      <path d=\"M 9.421875 54.6875 \r\nL 18.40625 54.6875 \r\nL 18.40625 0 \r\nL 9.421875 0 \r\nz\r\nM 9.421875 75.984375 \r\nL 18.40625 75.984375 \r\nL 18.40625 64.59375 \r\nL 9.421875 64.59375 \r\nz\r\n\" id=\"DejaVuSans-105\"/>\r\n      <path d=\"M 45.40625 46.390625 \r\nL 45.40625 75.984375 \r\nL 54.390625 75.984375 \r\nL 54.390625 0 \r\nL 45.40625 0 \r\nL 45.40625 8.203125 \r\nQ 42.578125 3.328125 38.25 0.953125 \r\nQ 33.9375 -1.421875 27.875 -1.421875 \r\nQ 17.96875 -1.421875 11.734375 6.484375 \r\nQ 5.515625 14.40625 5.515625 27.296875 \r\nQ 5.515625 40.1875 11.734375 48.09375 \r\nQ 17.96875 56 27.875 56 \r\nQ 33.9375 56 38.25 53.625 \r\nQ 42.578125 51.265625 45.40625 46.390625 \r\nz\r\nM 14.796875 27.296875 \r\nQ 14.796875 17.390625 18.875 11.75 \r\nQ 22.953125 6.109375 30.078125 6.109375 \r\nQ 37.203125 6.109375 41.296875 11.75 \r\nQ 45.40625 17.390625 45.40625 27.296875 \r\nQ 45.40625 37.203125 41.296875 42.84375 \r\nQ 37.203125 48.484375 30.078125 48.484375 \r\nQ 22.953125 48.484375 18.875 42.84375 \r\nQ 14.796875 37.203125 14.796875 27.296875 \r\nz\r\n\" id=\"DejaVuSans-100\"/>\r\n      <path d=\"M 2.984375 54.6875 \r\nL 12.5 54.6875 \r\nL 29.59375 8.796875 \r\nL 46.6875 54.6875 \r\nL 56.203125 54.6875 \r\nL 35.6875 0 \r\nL 23.484375 0 \r\nz\r\n\" id=\"DejaVuSans-118\"/>\r\n      <path d=\"M 8.5 21.578125 \r\nL 8.5 54.6875 \r\nL 17.484375 54.6875 \r\nL 17.484375 21.921875 \r\nQ 17.484375 14.15625 20.5 10.265625 \r\nQ 23.53125 6.390625 29.59375 6.390625 \r\nQ 36.859375 6.390625 41.078125 11.03125 \r\nQ 45.3125 15.671875 45.3125 23.6875 \r\nL 45.3125 54.6875 \r\nL 54.296875 54.6875 \r\nL 54.296875 0 \r\nL 45.3125 0 \r\nL 45.3125 8.40625 \r\nQ 42.046875 3.421875 37.71875 1 \r\nQ 33.40625 -1.421875 27.6875 -1.421875 \r\nQ 18.265625 -1.421875 13.375 4.4375 \r\nQ 8.5 10.296875 8.5 21.578125 \r\nz\r\nM 31.109375 56 \r\nz\r\n\" id=\"DejaVuSans-117\"/>\r\n      <path d=\"M 44.28125 53.078125 \r\nL 44.28125 44.578125 \r\nQ 40.484375 46.53125 36.375 47.5 \r\nQ 32.28125 48.484375 27.875 48.484375 \r\nQ 21.1875 48.484375 17.84375 46.4375 \r\nQ 14.5 44.390625 14.5 40.28125 \r\nQ 14.5 37.15625 16.890625 35.375 \r\nQ 19.28125 33.59375 26.515625 31.984375 \r\nL 29.59375 31.296875 \r\nQ 39.15625 29.25 43.1875 25.515625 \r\nQ 47.21875 21.78125 47.21875 15.09375 \r\nQ 47.21875 7.46875 41.1875 3.015625 \r\nQ 35.15625 -1.421875 24.609375 -1.421875 \r\nQ 20.21875 -1.421875 15.453125 -0.5625 \r\nQ 10.6875 0.296875 5.421875 2 \r\nL 5.421875 11.28125 \r\nQ 10.40625 8.6875 15.234375 7.390625 \r\nQ 20.0625 6.109375 24.8125 6.109375 \r\nQ 31.15625 6.109375 34.5625 8.28125 \r\nQ 37.984375 10.453125 37.984375 14.40625 \r\nQ 37.984375 18.0625 35.515625 20.015625 \r\nQ 33.0625 21.96875 24.703125 23.78125 \r\nL 21.578125 24.515625 \r\nQ 13.234375 26.265625 9.515625 29.90625 \r\nQ 5.8125 33.546875 5.8125 39.890625 \r\nQ 5.8125 47.609375 11.28125 51.796875 \r\nQ 16.75 56 26.8125 56 \r\nQ 31.78125 56 36.171875 55.265625 \r\nQ 40.578125 54.546875 44.28125 53.078125 \r\nz\r\n\" id=\"DejaVuSans-115\"/>\r\n     </defs>\r\n     <use transform=\"translate(0 0.578125)\" xlink:href=\"#DejaVuSans-73\"/>\r\n     <use transform=\"translate(25.867188 0.578125)\" xlink:href=\"#DejaVuSans-109\"/>\r\n     <use transform=\"translate(123.279297 0.578125)\" xlink:href=\"#DejaVuSans-97\"/>\r\n     <use transform=\"translate(184.558594 0.578125)\" xlink:href=\"#DejaVuSans-103\"/>\r\n     <use transform=\"translate(248.035156 0.578125)\" xlink:href=\"#DejaVuSans-101\"/>\r\n     <use transform=\"translate(309.558594 0.578125)\" xlink:href=\"#DejaVuSans-32\"/>\r\n     <use transform=\"translate(341.345703 0.578125)\" xlink:href=\"#DejaVuSans-112\"/>\r\n     <use transform=\"translate(404.822266 0.578125)\" xlink:href=\"#DejaVuSans-108\"/>\r\n     <use transform=\"translate(432.605469 0.578125)\" xlink:href=\"#DejaVuSans-111\"/>\r\n     <use transform=\"translate(493.787109 0.578125)\" xlink:href=\"#DejaVuSans-116\"/>\r\n     <use transform=\"translate(532.996094 0.578125)\" xlink:href=\"#DejaVuSans-32\"/>\r\n     <use transform=\"translate(564.783203 0.578125)\" xlink:href=\"#DejaVuSans-111\"/>\r\n     <use transform=\"translate(625.964844 0.578125)\" xlink:href=\"#DejaVuSans-102\"/>\r\n     <use transform=\"translate(661.169922 0.578125)\" xlink:href=\"#DejaVuSans-32\"/>\r\n     <use transform=\"translate(692.957031 2.5)scale(0.770324)\" xlink:href=\"#STIXSizeOneSym-Regular-8730\"/>\r\n     <use transform=\"translate(786.846024 0.515625)\" xlink:href=\"#DejaVuSans-Oblique-120\"/>\r\n     <use transform=\"translate(850.491857 38.796875)scale(0.7)\" xlink:href=\"#DejaVuSans-50\"/>\r\n     <use transform=\"translate(917.244787 0.515625)\" xlink:href=\"#DejaVuSans-43\"/>\r\n     <use transform=\"translate(1020.516271 0.515625)\" xlink:href=\"#DejaVuSans-Oblique-121\"/>\r\n     <use transform=\"translate(1084.162104 38.796875)scale(0.7)\" xlink:href=\"#DejaVuSans-50\"/>\r\n     <use transform=\"translate(1143.932612 0.578125)\" xlink:href=\"#DejaVuSans-32\"/>\r\n     <use transform=\"translate(1175.719721 0.578125)\" xlink:href=\"#DejaVuSans-102\"/>\r\n     <use transform=\"translate(1210.9248 0.578125)\" xlink:href=\"#DejaVuSans-111\"/>\r\n     <use transform=\"translate(1272.10644 0.578125)\" xlink:href=\"#DejaVuSans-114\"/>\r\n     <use transform=\"translate(1313.219721 0.578125)\" xlink:href=\"#DejaVuSans-32\"/>\r\n     <use transform=\"translate(1345.006831 0.578125)\" xlink:href=\"#DejaVuSans-97\"/>\r\n     <use transform=\"translate(1406.286128 0.578125)\" xlink:href=\"#DejaVuSans-32\"/>\r\n     <use transform=\"translate(1438.073237 0.578125)\" xlink:href=\"#DejaVuSans-103\"/>\r\n     <use transform=\"translate(1501.5498 0.578125)\" xlink:href=\"#DejaVuSans-114\"/>\r\n     <use transform=\"translate(1542.663081 0.578125)\" xlink:href=\"#DejaVuSans-105\"/>\r\n     <use transform=\"translate(1570.446284 0.578125)\" xlink:href=\"#DejaVuSans-100\"/>\r\n     <use transform=\"translate(1633.922846 0.578125)\" xlink:href=\"#DejaVuSans-32\"/>\r\n     <use transform=\"translate(1665.709956 0.578125)\" xlink:href=\"#DejaVuSans-111\"/>\r\n     <use transform=\"translate(1726.891596 0.578125)\" xlink:href=\"#DejaVuSans-102\"/>\r\n     <use transform=\"translate(1762.096675 0.578125)\" xlink:href=\"#DejaVuSans-32\"/>\r\n     <use transform=\"translate(1793.883784 0.578125)\" xlink:href=\"#DejaVuSans-118\"/>\r\n     <use transform=\"translate(1853.063471 0.578125)\" xlink:href=\"#DejaVuSans-97\"/>\r\n     <use transform=\"translate(1914.342768 0.578125)\" xlink:href=\"#DejaVuSans-108\"/>\r\n     <use transform=\"translate(1942.125971 0.578125)\" xlink:href=\"#DejaVuSans-117\"/>\r\n     <use transform=\"translate(2005.504878 0.578125)\" xlink:href=\"#DejaVuSans-101\"/>\r\n     <use transform=\"translate(2067.028315 0.578125)\" xlink:href=\"#DejaVuSans-115\"/>\r\n     <path d=\"M 774.346024 115.5 \r\nL 774.346024 121.75 \r\nL 1143.932612 121.75 \r\nL 1143.932612 115.5 \r\nL 774.346024 115.5 \r\nz\r\n\"/>\r\n    </g>\r\n   </g>\r\n  </g>\r\n  <g id=\"axes_2\">\r\n   <g id=\"patch_7\">\r\n    <path clip-path=\"url(#pe11ffa3eae)\" d=\"M 267.4675 246 \r\nL 267.4675 245.150625 \r\nL 267.4675 29.409375 \r\nL 267.4675 28.56 \r\nL 278.3395 28.56 \r\nL 278.3395 29.409375 \r\nL 278.3395 245.150625 \r\nL 278.3395 246 \r\nz\r\n\" style=\"fill:#ffffff;stroke:#ffffff;stroke-linejoin:miter;stroke-width:0.01;\"/>\r\n   </g>\r\n   <image height=\"217\" id=\"image67ff2ab752\" transform=\"scale(1 -1)translate(0 -217)\" width=\"11\" x=\"267\" xlink:href=\"data:image/png;base64,\r\niVBORw0KGgoAAAANSUhEUgAAAAsAAADZCAYAAAD2WsoCAAAAgklEQVR4nO3QMQrAMBADwcj4/19O2iuNIGCWvXqL0yTJ+xzeTnLa/hmvtW5445JYjRnjNfAD1ahjvAZ+oBozxg9Uo47xGviBatQxXgM/UI06xmvgB6oxY/xANeoYr4EfqEYd4zXwA9WoY7wGfqAadYzXwA9UY8b4gWrUMV4DP5Cu8QHdRgdeRvf/PQAAAABJRU5ErkJggg==\" y=\"-28\"/>\r\n   <g id=\"matplotlib.axis_3\"/>\r\n   <g id=\"matplotlib.axis_4\">\r\n    <g id=\"ytick_6\">\r\n     <g id=\"line2d_11\">\r\n      <defs>\r\n       <path d=\"M 0 0 \r\nL 3.5 0 \r\n\" id=\"m1f307aa76a\" style=\"stroke:#000000;stroke-width:0.8;\"/>\r\n      </defs>\r\n      <g>\r\n       <use style=\"stroke:#000000;stroke-width:0.8;\" x=\"278.3395\" xlink:href=\"#m1f307aa76a\" y=\"246\"/>\r\n      </g>\r\n     </g>\r\n     <g id=\"text_12\">\r\n      <!-- 0 -->\r\n      <g transform=\"translate(285.3395 249.799219)scale(0.1 -0.1)\">\r\n       <use xlink:href=\"#DejaVuSans-48\"/>\r\n      </g>\r\n     </g>\r\n    </g>\r\n    <g id=\"ytick_7\">\r\n     <g id=\"line2d_12\">\r\n      <g>\r\n       <use style=\"stroke:#000000;stroke-width:0.8;\" x=\"278.3395\" xlink:href=\"#m1f307aa76a\" y=\"215.24934\"/>\r\n      </g>\r\n     </g>\r\n     <g id=\"text_13\">\r\n      <!-- 1 -->\r\n      <g transform=\"translate(285.3395 219.048559)scale(0.1 -0.1)\">\r\n       <defs>\r\n        <path d=\"M 12.40625 8.296875 \r\nL 28.515625 8.296875 \r\nL 28.515625 63.921875 \r\nL 10.984375 60.40625 \r\nL 10.984375 69.390625 \r\nL 28.421875 72.90625 \r\nL 38.28125 72.90625 \r\nL 38.28125 8.296875 \r\nL 54.390625 8.296875 \r\nL 54.390625 0 \r\nL 12.40625 0 \r\nz\r\n\" id=\"DejaVuSans-49\"/>\r\n       </defs>\r\n       <use xlink:href=\"#DejaVuSans-49\"/>\r\n      </g>\r\n     </g>\r\n    </g>\r\n    <g id=\"ytick_8\">\r\n     <g id=\"line2d_13\">\r\n      <g>\r\n       <use style=\"stroke:#000000;stroke-width:0.8;\" x=\"278.3395\" xlink:href=\"#m1f307aa76a\" y=\"184.498681\"/>\r\n      </g>\r\n     </g>\r\n     <g id=\"text_14\">\r\n      <!-- 2 -->\r\n      <g transform=\"translate(285.3395 188.297899)scale(0.1 -0.1)\">\r\n       <use xlink:href=\"#DejaVuSans-50\"/>\r\n      </g>\r\n     </g>\r\n    </g>\r\n    <g id=\"ytick_9\">\r\n     <g id=\"line2d_14\">\r\n      <g>\r\n       <use style=\"stroke:#000000;stroke-width:0.8;\" x=\"278.3395\" xlink:href=\"#m1f307aa76a\" y=\"153.748021\"/>\r\n      </g>\r\n     </g>\r\n     <g id=\"text_15\">\r\n      <!-- 3 -->\r\n      <g transform=\"translate(285.3395 157.54724)scale(0.1 -0.1)\">\r\n       <defs>\r\n        <path d=\"M 40.578125 39.3125 \r\nQ 47.65625 37.796875 51.625 33 \r\nQ 55.609375 28.21875 55.609375 21.1875 \r\nQ 55.609375 10.40625 48.1875 4.484375 \r\nQ 40.765625 -1.421875 27.09375 -1.421875 \r\nQ 22.515625 -1.421875 17.65625 -0.515625 \r\nQ 12.796875 0.390625 7.625 2.203125 \r\nL 7.625 11.71875 \r\nQ 11.71875 9.328125 16.59375 8.109375 \r\nQ 21.484375 6.890625 26.8125 6.890625 \r\nQ 36.078125 6.890625 40.9375 10.546875 \r\nQ 45.796875 14.203125 45.796875 21.1875 \r\nQ 45.796875 27.640625 41.28125 31.265625 \r\nQ 36.765625 34.90625 28.71875 34.90625 \r\nL 20.21875 34.90625 \r\nL 20.21875 43.015625 \r\nL 29.109375 43.015625 \r\nQ 36.375 43.015625 40.234375 45.921875 \r\nQ 44.09375 48.828125 44.09375 54.296875 \r\nQ 44.09375 59.90625 40.109375 62.90625 \r\nQ 36.140625 65.921875 28.71875 65.921875 \r\nQ 24.65625 65.921875 20.015625 65.03125 \r\nQ 15.375 64.15625 9.8125 62.3125 \r\nL 9.8125 71.09375 \r\nQ 15.4375 72.65625 20.34375 73.4375 \r\nQ 25.25 74.21875 29.59375 74.21875 \r\nQ 40.828125 74.21875 47.359375 69.109375 \r\nQ 53.90625 64.015625 53.90625 55.328125 \r\nQ 53.90625 49.265625 50.4375 45.09375 \r\nQ 46.96875 40.921875 40.578125 39.3125 \r\nz\r\n\" id=\"DejaVuSans-51\"/>\r\n       </defs>\r\n       <use xlink:href=\"#DejaVuSans-51\"/>\r\n      </g>\r\n     </g>\r\n    </g>\r\n    <g id=\"ytick_10\">\r\n     <g id=\"line2d_15\">\r\n      <g>\r\n       <use style=\"stroke:#000000;stroke-width:0.8;\" x=\"278.3395\" xlink:href=\"#m1f307aa76a\" y=\"122.997361\"/>\r\n      </g>\r\n     </g>\r\n     <g id=\"text_16\">\r\n      <!-- 4 -->\r\n      <g transform=\"translate(285.3395 126.79658)scale(0.1 -0.1)\">\r\n       <use xlink:href=\"#DejaVuSans-52\"/>\r\n      </g>\r\n     </g>\r\n    </g>\r\n    <g id=\"ytick_11\">\r\n     <g id=\"line2d_16\">\r\n      <g>\r\n       <use style=\"stroke:#000000;stroke-width:0.8;\" x=\"278.3395\" xlink:href=\"#m1f307aa76a\" y=\"92.246701\"/>\r\n      </g>\r\n     </g>\r\n     <g id=\"text_17\">\r\n      <!-- 5 -->\r\n      <g transform=\"translate(285.3395 96.04592)scale(0.1 -0.1)\">\r\n       <defs>\r\n        <path d=\"M 10.796875 72.90625 \r\nL 49.515625 72.90625 \r\nL 49.515625 64.59375 \r\nL 19.828125 64.59375 \r\nL 19.828125 46.734375 \r\nQ 21.96875 47.46875 24.109375 47.828125 \r\nQ 26.265625 48.1875 28.421875 48.1875 \r\nQ 40.625 48.1875 47.75 41.5 \r\nQ 54.890625 34.8125 54.890625 23.390625 \r\nQ 54.890625 11.625 47.5625 5.09375 \r\nQ 40.234375 -1.421875 26.90625 -1.421875 \r\nQ 22.3125 -1.421875 17.546875 -0.640625 \r\nQ 12.796875 0.140625 7.71875 1.703125 \r\nL 7.71875 11.625 \r\nQ 12.109375 9.234375 16.796875 8.0625 \r\nQ 21.484375 6.890625 26.703125 6.890625 \r\nQ 35.15625 6.890625 40.078125 11.328125 \r\nQ 45.015625 15.765625 45.015625 23.390625 \r\nQ 45.015625 31 40.078125 35.4375 \r\nQ 35.15625 39.890625 26.703125 39.890625 \r\nQ 22.75 39.890625 18.8125 39.015625 \r\nQ 14.890625 38.140625 10.796875 36.28125 \r\nz\r\n\" id=\"DejaVuSans-53\"/>\r\n       </defs>\r\n       <use xlink:href=\"#DejaVuSans-53\"/>\r\n      </g>\r\n     </g>\r\n    </g>\r\n    <g id=\"ytick_12\">\r\n     <g id=\"line2d_17\">\r\n      <g>\r\n       <use style=\"stroke:#000000;stroke-width:0.8;\" x=\"278.3395\" xlink:href=\"#m1f307aa76a\" y=\"61.496042\"/>\r\n      </g>\r\n     </g>\r\n     <g id=\"text_18\">\r\n      <!-- 6 -->\r\n      <g transform=\"translate(285.3395 65.295261)scale(0.1 -0.1)\">\r\n       <use xlink:href=\"#DejaVuSans-54\"/>\r\n      </g>\r\n     </g>\r\n    </g>\r\n    <g id=\"ytick_13\">\r\n     <g id=\"line2d_18\">\r\n      <g>\r\n       <use style=\"stroke:#000000;stroke-width:0.8;\" x=\"278.3395\" xlink:href=\"#m1f307aa76a\" y=\"30.745382\"/>\r\n      </g>\r\n     </g>\r\n     <g id=\"text_19\">\r\n      <!-- 7 -->\r\n      <g transform=\"translate(285.3395 34.544601)scale(0.1 -0.1)\">\r\n       <defs>\r\n        <path d=\"M 8.203125 72.90625 \r\nL 55.078125 72.90625 \r\nL 55.078125 68.703125 \r\nL 28.609375 0 \r\nL 18.3125 0 \r\nL 43.21875 64.59375 \r\nL 8.203125 64.59375 \r\nz\r\n\" id=\"DejaVuSans-55\"/>\r\n       </defs>\r\n       <use xlink:href=\"#DejaVuSans-55\"/>\r\n      </g>\r\n     </g>\r\n    </g>\r\n   </g>\r\n   <g id=\"patch_8\">\r\n    <path d=\"M 267.4675 246 \r\nL 267.4675 245.150625 \r\nL 267.4675 29.409375 \r\nL 267.4675 28.56 \r\nL 278.3395 28.56 \r\nL 278.3395 29.409375 \r\nL 278.3395 245.150625 \r\nL 278.3395 246 \r\nz\r\n\" style=\"fill:none;stroke:#000000;stroke-linejoin:miter;stroke-width:0.8;\"/>\r\n   </g>\r\n  </g>\r\n </g>\r\n <defs>\r\n  <clipPath id=\"pf32508c0d6\">\r\n   <rect height=\"217.44\" width=\"217.44\" x=\"33.2875\" y=\"28.56\"/>\r\n  </clipPath>\r\n  <clipPath id=\"pe11ffa3eae\">\r\n   <rect height=\"217.44\" width=\"10.872\" x=\"267.4675\" y=\"28.56\"/>\r\n  </clipPath>\r\n </defs>\r\n</svg>\r\n",
      "image/png": "[encoded data removed]"
     },
     "metadata": {
      "needs_background": "light"
     }
    }
   ],
   "source": [
    "plt.imshow(z, cmap=plt.cm.gray); plt.colorbar()\n",
    "plt.title(\"Image plot of $\\sqrt{x^2+y^2}$ for a grid of values\")"
   ]
  },
  {
   "source": [
    "## 4.3.1 배열 연산으로 조건절 표현하기"
   ],
   "cell_type": "markdown",
   "metadata": {}
  },
  {
   "cell_type": "code",
   "execution_count": 40,
   "metadata": {},
   "outputs": [],
   "source": [
    "xarr = np.array([1.1, 1.2, 1.3, 1.4, 1.5])\n",
    "yarr = np.array([2.1, 2.2, 2.3, 2.4, 2.5])\n",
    "cond = np.array([True, False, True, True, False])"
   ]
  },
  {
   "cell_type": "code",
   "execution_count": 41,
   "metadata": {},
   "outputs": [
    {
     "output_type": "execute_result",
     "data": {
      "text/plain": [
       "[1.1, 2.2, 1.3, 1.4, 2.5]"
      ]
     },
     "metadata": {},
     "execution_count": 41
    }
   ],
   "source": [
    "result = [(x if c else y) for x, y, c in zip(xarr, yarr, cond)]\n",
    "result"
   ]
  },
  {
   "cell_type": "code",
   "execution_count": 43,
   "metadata": {},
   "outputs": [
    {
     "output_type": "stream",
     "name": "stdout",
     "text": [
      "[[ 0.43564258 -0.37551557  1.66939451 -1.23570849]\n [-0.26316232 -0.87357866  0.88983444  1.62377704]\n [ 0.47416846 -0.63281821  1.43400272 -0.82871158]\n [-0.26459764 -0.06641861 -0.2965215  -1.70041853]]\n[[ True False  True False]\n [False False  True  True]\n [ True False  True False]\n [False False False False]]\n[[ 2 -2  2 -2]\n [-2 -2  2  2]\n [ 2 -2  2 -2]\n [-2 -2 -2 -2]]\n"
     ]
    }
   ],
   "source": [
    "arr = np.random.randn(4, 4)\n",
    "print(arr)\n",
    "print(arr>0)\n",
    "print(np.where(arr>0, 2, -2))"
   ]
  },
  {
   "cell_type": "code",
   "execution_count": 44,
   "metadata": {},
   "outputs": [
    {
     "output_type": "execute_result",
     "data": {
      "text/plain": [
       "array([[ 2.        , -0.37551557,  2.        , -1.23570849],\n",
       "       [-0.26316232, -0.87357866,  2.        ,  2.        ],\n",
       "       [ 2.        , -0.63281821,  2.        , -0.82871158],\n",
       "       [-0.26459764, -0.06641861, -0.2965215 , -1.70041853]])"
      ]
     },
     "metadata": {},
     "execution_count": 44
    }
   ],
   "source": [
    "np.where(arr>0, 2, arr) #양수인 경우에만 2를 대입한다."
   ]
  },
  {
   "source": [
    "## 4.3.2 수학 메서드와 통계 메서드"
   ],
   "cell_type": "markdown",
   "metadata": {}
  },
  {
   "cell_type": "code",
   "execution_count": 45,
   "metadata": {},
   "outputs": [
    {
     "output_type": "execute_result",
     "data": {
      "text/plain": [
       "array([[-0.44626575, -0.45212007, -0.68851618,  0.37815641],\n",
       "       [-1.29144423, -0.36389201, -0.78938998,  0.6554372 ],\n",
       "       [-0.29820792,  0.32394821, -0.65920402,  0.64410541],\n",
       "       [ 0.78663898,  0.45445929,  1.15263179,  0.50696903],\n",
       "       [ 0.50101447,  0.79175609,  0.01697577,  0.10867527]])"
      ]
     },
     "metadata": {},
     "execution_count": 45
    }
   ],
   "source": [
    "arr = np.random.randn(5, 4)\n",
    "arr"
   ]
  },
  {
   "cell_type": "code",
   "execution_count": 46,
   "metadata": {},
   "outputs": [
    {
     "output_type": "stream",
     "name": "stdout",
     "text": [
      "0.0665863872104813\n0.0665863872104813\n1.3317277442096258\n[-0.3021864  -0.44732226  0.00266042  0.72517477  0.3546054 ]\n[-0.74826445  0.7541515  -0.96750262  2.29334331]\n"
     ]
    }
   ],
   "source": [
    "print(arr.mean())\n",
    "print(np.mean(arr))\n",
    "print(arr.sum())\n",
    "print(arr.mean(axis=1))\n",
    "print(arr.sum(axis=0))"
   ]
  },
  {
   "cell_type": "code",
   "execution_count": 47,
   "metadata": {},
   "outputs": [
    {
     "output_type": "execute_result",
     "data": {
      "text/plain": [
       "array([ 0,  1,  3,  6, 10, 15, 21, 28], dtype=int32)"
      ]
     },
     "metadata": {},
     "execution_count": 47
    }
   ],
   "source": [
    "arr = np.array([0, 1, 2, 3, 4, 5, 6, 7])\n",
    "arr.cumsum()"
   ]
  },
  {
   "cell_type": "code",
   "execution_count": 49,
   "metadata": {},
   "outputs": [
    {
     "output_type": "stream",
     "name": "stdout",
     "text": [
      "[[0 1 2]\n [3 4 5]\n [6 7 8]]\n[[ 0  1  2]\n [ 3  5  7]\n [ 9 12 15]]\n[[  0   0   0]\n [  3  12  60]\n [  6  42 336]]\n"
     ]
    }
   ],
   "source": [
    "arr = np.array([[0,1,2],[3,4,5],[6,7,8]])\n",
    "print(arr)\n",
    "print(arr.cumsum(axis=0))\n",
    "print(arr.cumprod(axis=1))"
   ]
  },
  {
   "source": [
    "## 4.3.3 불리언 배열을 위한 메서드"
   ],
   "cell_type": "markdown",
   "metadata": {}
  },
  {
   "cell_type": "code",
   "execution_count": 50,
   "metadata": {},
   "outputs": [
    {
     "output_type": "execute_result",
     "data": {
      "text/plain": [
       "54"
      ]
     },
     "metadata": {},
     "execution_count": 50
    }
   ],
   "source": [
    "arr = np.random.randn(100)\n",
    "(arr>0).sum()"
   ]
  },
  {
   "cell_type": "code",
   "execution_count": 51,
   "metadata": {},
   "outputs": [
    {
     "output_type": "stream",
     "name": "stdout",
     "text": [
      "True\nFalse\n"
     ]
    }
   ],
   "source": [
    "bools = np.array([False, False, True, False])\n",
    "print(bools.any()) # 하나이상의 값이 True인지 검사\n",
    "print(bools.all()) # 모든 원소가 True인지 검사"
   ]
  },
  {
   "source": [
    "## 4.3.4 정렬"
   ],
   "cell_type": "markdown",
   "metadata": {}
  },
  {
   "cell_type": "code",
   "execution_count": 53,
   "metadata": {},
   "outputs": [
    {
     "output_type": "stream",
     "name": "stdout",
     "text": [
      "[-0.9731062  -1.28139816 -1.15924865 -1.27912748  0.30296236 -0.7441557 ]\n[-1.28139816 -1.27912748 -1.15924865 -0.9731062  -0.7441557   0.30296236]\n"
     ]
    }
   ],
   "source": [
    "arr = np.random.randn(6)\n",
    "print(arr)\n",
    "arr.sort()\n",
    "print(arr)"
   ]
  },
  {
   "cell_type": "code",
   "execution_count": 54,
   "metadata": {},
   "outputs": [
    {
     "output_type": "stream",
     "name": "stdout",
     "text": [
      "[[ 0.35324765 -0.60129861 -2.24547383]\n [-0.84600955 -0.72119374 -0.44435337]\n [-0.08859592  0.09455818 -0.3028756 ]\n [-2.1315358   0.03659616 -1.43625425]\n [ 0.1891804   0.57355311 -0.58349737]]\n[[-2.24547383 -0.60129861  0.35324765]\n [-0.84600955 -0.72119374 -0.44435337]\n [-0.3028756  -0.08859592  0.09455818]\n [-2.1315358  -1.43625425  0.03659616]\n [-0.58349737  0.1891804   0.57355311]]\n"
     ]
    }
   ],
   "source": [
    "arr = np.random.randn(5,3)\n",
    "print(arr)\n",
    "arr.sort(1)\n",
    "print(arr)"
   ]
  },
  {
   "cell_type": "code",
   "execution_count": 55,
   "metadata": {},
   "outputs": [
    {
     "output_type": "execute_result",
     "data": {
      "text/plain": [
       "-1.4631296745229199"
      ]
     },
     "metadata": {},
     "execution_count": 55
    }
   ],
   "source": [
    "large_arr = np.random.randn(100)\n",
    "large_arr.sort()\n",
    "large_arr[int(0.05*len(large_arr))] #5%분위수"
   ]
  },
  {
   "source": [
    "## 집합 관련 함수"
   ],
   "cell_type": "markdown",
   "metadata": {}
  },
  {
   "cell_type": "code",
   "execution_count": 57,
   "metadata": {},
   "outputs": [
    {
     "output_type": "stream",
     "name": "stdout",
     "text": [
      "['Bob' 'Joe' 'Will']\n['Bob', 'Joe', 'Will']\n"
     ]
    }
   ],
   "source": [
    "names = np.array(['Bob', 'Joe', 'Will', 'Bob', 'Will', 'Joe', 'Joe'])\n",
    "print(np.unique(names))\n",
    "print(sorted(set(names)))"
   ]
  },
  {
   "cell_type": "code",
   "execution_count": 59,
   "metadata": {},
   "outputs": [
    {
     "output_type": "execute_result",
     "data": {
      "text/plain": [
       "array([ True, False, False,  True,  True, False,  True])"
      ]
     },
     "metadata": {},
     "execution_count": 59
    }
   ],
   "source": [
    "values = np.array([6, 0, 0, 3, 2, 5, 6])\n",
    "np.in1d(values, [2,3,6])\n",
    "# 두개의 배열을 인자로 받아서 첫번째 배열의 원소가 두번째 배열의 원소를 포함하는지 나타내는 불리언 배열을 반환"
   ]
  },
  {
   "source": [
    "## 4.4 배열 데이터의 파일 입출력"
   ],
   "cell_type": "markdown",
   "metadata": {}
  },
  {
   "cell_type": "code",
   "execution_count": 60,
   "metadata": {},
   "outputs": [],
   "source": [
    "arr = np.arange(10)\n",
    "np.save('some_array', arr)"
   ]
  },
  {
   "cell_type": "code",
   "execution_count": 61,
   "metadata": {},
   "outputs": [
    {
     "output_type": "execute_result",
     "data": {
      "text/plain": [
       "array([0, 1, 2, 3, 4, 5, 6, 7, 8, 9])"
      ]
     },
     "metadata": {},
     "execution_count": 61
    }
   ],
   "source": [
    "np.load('some_array.npy')"
   ]
  },
  {
   "source": [
    "## 4.5 선형대수"
   ],
   "cell_type": "markdown",
   "metadata": {}
  },
  {
   "cell_type": "code",
   "execution_count": 63,
   "metadata": {},
   "outputs": [],
   "source": [
    "x = np.array([[1., 2., 3.],[4., 5., 6.]])\n",
    "y = np.array([[6., 23.], [-1, 7],[8, 9]])"
   ]
  },
  {
   "cell_type": "code",
   "execution_count": 64,
   "metadata": {},
   "outputs": [
    {
     "output_type": "stream",
     "name": "stdout",
     "text": [
      "[[1. 2. 3.]\n [4. 5. 6.]]\n[[ 6. 23.]\n [-1.  7.]\n [ 8.  9.]]\n"
     ]
    }
   ],
   "source": [
    "print(x)\n",
    "print(y)"
   ]
  },
  {
   "cell_type": "code",
   "execution_count": 66,
   "metadata": {},
   "outputs": [
    {
     "output_type": "stream",
     "name": "stdout",
     "text": [
      "[[ 28.  64.]\n [ 67. 181.]]\n[[ 28.  64.]\n [ 67. 181.]]\n"
     ]
    }
   ],
   "source": [
    "print(x.dot(y))\n",
    "print(np.dot(x, y))"
   ]
  },
  {
   "cell_type": "code",
   "execution_count": 68,
   "metadata": {},
   "outputs": [
    {
     "output_type": "stream",
     "name": "stdout",
     "text": [
      "[ 6. 15.]\n[ 6. 15.]\n"
     ]
    }
   ],
   "source": [
    "print(np.dot(x, np.ones(3)))\n",
    "print(x @ np.ones(3))"
   ]
  },
  {
   "cell_type": "code",
   "execution_count": 69,
   "metadata": {},
   "outputs": [],
   "source": [
    "from numpy.linalg import inv, qr"
   ]
  },
  {
   "cell_type": "code",
   "execution_count": 70,
   "metadata": {},
   "outputs": [],
   "source": [
    "X = np.random.rand(5, 5)\n",
    "mat = X.T.dot(X) # X.T.의 전치행렬과 X의 곱 계산"
   ]
  },
  {
   "cell_type": "code",
   "execution_count": 71,
   "metadata": {},
   "outputs": [
    {
     "output_type": "execute_result",
     "data": {
      "text/plain": [
       "array([[  343.48724327, -1292.16593277,  -422.40118055,  1041.23969551,\n",
       "          667.3197522 ],\n",
       "       [-1292.16593277,  4936.68516576,  1615.22121233, -3984.35404705,\n",
       "        -2556.29881449],\n",
       "       [ -422.40118055,  1615.22121233,   532.25306692, -1305.97184218,\n",
       "         -837.60435088],\n",
       "       [ 1041.23969551, -3984.35404705, -1305.97184218,  3218.73831482,\n",
       "         2063.87349889],\n",
       "       [  667.3197522 , -2556.29881449,  -837.60435088,  2063.87349889,\n",
       "         1325.24272291]])"
      ]
     },
     "metadata": {},
     "execution_count": 71
    }
   ],
   "source": [
    "inv(mat) # 정사각 행렬의 역행렬 계산"
   ]
  },
  {
   "cell_type": "code",
   "execution_count": 72,
   "metadata": {},
   "outputs": [
    {
     "output_type": "execute_result",
     "data": {
      "text/plain": [
       "array([[ 1.00000000e+00, -9.09494702e-13,  0.00000000e+00,\n",
       "         4.54747351e-13,  6.82121026e-13],\n",
       "       [ 0.00000000e+00,  1.00000000e+00,  0.00000000e+00,\n",
       "        -4.54747351e-13, -4.54747351e-13],\n",
       "       [-2.27373675e-13,  0.00000000e+00,  1.00000000e+00,\n",
       "         4.54747351e-13,  2.27373675e-13],\n",
       "       [ 0.00000000e+00, -1.36424205e-12, -2.27373675e-13,\n",
       "         1.00000000e+00,  2.27373675e-13],\n",
       "       [ 2.27373675e-13,  9.09494702e-13,  0.00000000e+00,\n",
       "         9.09494702e-13,  1.00000000e+00]])"
      ]
     },
     "metadata": {},
     "execution_count": 72
    }
   ],
   "source": [
    "mat.dot(inv(mat))"
   ]
  },
  {
   "cell_type": "code",
   "execution_count": 74,
   "metadata": {},
   "outputs": [
    {
     "output_type": "execute_result",
     "data": {
      "text/plain": [
       "array([[-1.91628580e+00, -3.52803967e+00, -2.54753344e+00,\n",
       "        -2.45583580e+00, -3.62634500e+00],\n",
       "       [ 0.00000000e+00, -3.04424245e-01, -3.25736577e-01,\n",
       "        -4.44569712e-01, -1.00732679e-01],\n",
       "       [ 0.00000000e+00,  0.00000000e+00, -3.68849262e-01,\n",
       "        -1.94250432e-01,  6.95505187e-02],\n",
       "       [ 0.00000000e+00,  0.00000000e+00,  0.00000000e+00,\n",
       "        -3.67183588e-01,  5.72382348e-01],\n",
       "       [ 0.00000000e+00,  0.00000000e+00,  0.00000000e+00,\n",
       "         0.00000000e+00,  2.70197230e-04]])"
      ]
     },
     "metadata": {},
     "execution_count": 74
    }
   ],
   "source": [
    "q, r = qr(mat) # qr분해를 계산\n",
    "r"
   ]
  },
  {
   "source": [
    "## 4.6 난수 생성"
   ],
   "cell_type": "markdown",
   "metadata": {}
  },
  {
   "cell_type": "code",
   "execution_count": 77,
   "metadata": {},
   "outputs": [
    {
     "output_type": "execute_result",
     "data": {
      "text/plain": [
       "array([[-0.44931037,  0.50081922,  0.65975127, -1.03069044],\n",
       "       [ 1.37648475, -0.39215593, -1.24841284,  0.77893803],\n",
       "       [-0.14383883,  0.12084207, -0.01988994,  2.02627636],\n",
       "       [-0.93088338,  0.24234268,  0.6927841 ,  0.01931787]])"
      ]
     },
     "metadata": {},
     "execution_count": 77
    }
   ],
   "source": [
    "samples = np.random.normal(size=(4, 4))\n",
    "samples"
   ]
  },
  {
   "cell_type": "code",
   "execution_count": 78,
   "metadata": {},
   "outputs": [],
   "source": [
    "from random import normalvariate"
   ]
  },
  {
   "cell_type": "code",
   "execution_count": 79,
   "metadata": {},
   "outputs": [],
   "source": [
    "N = 1000000"
   ]
  },
  {
   "cell_type": "code",
   "execution_count": 80,
   "metadata": {},
   "outputs": [
    {
     "output_type": "stream",
     "name": "stdout",
     "text": [
      "540 ms ± 16.1 ms per loop (mean ± std. dev. of 7 runs, 1 loop each)\n"
     ]
    }
   ],
   "source": [
    "%timeit sampls = [normalvariate(0, 1) for _ in range(N)]"
   ]
  },
  {
   "cell_type": "code",
   "execution_count": 81,
   "metadata": {},
   "outputs": [
    {
     "output_type": "stream",
     "name": "stdout",
     "text": [
      "19.5 ms ± 429 µs per loop (mean ± std. dev. of 7 runs, 10 loops each)\n"
     ]
    }
   ],
   "source": [
    "%timeit np.random.normal(size=N)"
   ]
  },
  {
   "cell_type": "code",
   "execution_count": 82,
   "metadata": {},
   "outputs": [],
   "source": [
    "np.random.seed(1234)"
   ]
  },
  {
   "cell_type": "code",
   "execution_count": 83,
   "metadata": {},
   "outputs": [
    {
     "output_type": "execute_result",
     "data": {
      "text/plain": [
       "array([ 0.47143516, -1.19097569,  1.43270697, -0.3126519 , -0.72058873,\n",
       "        0.88716294,  0.85958841, -0.6365235 ,  0.01569637, -2.24268495])"
      ]
     },
     "metadata": {},
     "execution_count": 83
    }
   ],
   "source": [
    "rng = np.random.RandomState(1234)\n",
    "rng.randn(10)"
   ]
  },
  {
   "source": [
    "### Exercise"
   ],
   "cell_type": "markdown",
   "metadata": {}
  },
  {
   "cell_type": "code",
   "execution_count": 84,
   "metadata": {},
   "outputs": [],
   "source": [
    "import random"
   ]
  },
  {
   "cell_type": "code",
   "execution_count": 85,
   "metadata": {},
   "outputs": [],
   "source": [
    "position = 0\n",
    "walk = [position]\n",
    "steps = 1000\n",
    "for i in range(steps):\n",
    "    step = 1 if random.randint(0, 1) else -1\n",
    "    position += step\n",
    "    walk.append(position)"
   ]
  },
  {
   "cell_type": "code",
   "execution_count": 86,
   "metadata": {},
   "outputs": [
    {
     "output_type": "execute_result",
     "data": {
      "text/plain": [
       "[<matplotlib.lines.Line2D at 0x18a686e3c18>]"
      ]
     },
     "metadata": {},
     "execution_count": 86
    },
    {
     "output_type": "display_data",
     "data": {
      "text/plain": "<Figure size 432x288 with 1 Axes>",
      "image/svg+xml": "<?xml version=\"1.0\" encoding=\"utf-8\" standalone=\"no\"?>\r\n<!DOCTYPE svg PUBLIC \"-//W3C//DTD SVG 1.1//EN\"\r\n  \"http://www.w3.org/Graphics/SVG/1.1/DTD/svg11.dtd\">\r\n<!-- Created with matplotlib (https://matplotlib.org/) -->\r\n<svg height=\"248.518125pt\" version=\"1.1\" viewBox=\"0 0 370.942187 248.518125\" width=\"370.942187pt\" xmlns=\"http://www.w3.org/2000/svg\" xmlns:xlink=\"http://www.w3.org/1999/xlink\">\r\n <metadata>\r\n  <rdf:RDF xmlns:cc=\"http://creativecommons.org/ns#\" xmlns:dc=\"http://purl.org/dc/elements/1.1/\" xmlns:rdf=\"http://www.w3.org/1999/02/22-rdf-syntax-ns#\">\r\n   <cc:Work>\r\n    <dc:type rdf:resource=\"http://purl.org/dc/dcmitype/StillImage\"/>\r\n    <dc:date>2021-05-04T19:22:52.029820</dc:date>\r\n    <dc:format>image/svg+xml</dc:format>\r\n    <dc:creator>\r\n     <cc:Agent>\r\n      <dc:title>Matplotlib v3.3.4, https://matplotlib.org/</dc:title>\r\n     </cc:Agent>\r\n    </dc:creator>\r\n   </cc:Work>\r\n  </rdf:RDF>\r\n </metadata>\r\n <defs>\r\n  <style type=\"text/css\">*{stroke-linecap:butt;stroke-linejoin:round;}</style>\r\n </defs>\r\n <g id=\"figure_1\">\r\n  <g id=\"patch_1\">\r\n   <path d=\"M 0 248.518125 \r\nL 370.942187 248.518125 \r\nL 370.942187 0 \r\nL 0 0 \r\nz\r\n\" style=\"fill:none;\"/>\r\n  </g>\r\n  <g id=\"axes_1\">\r\n   <g id=\"patch_2\">\r\n    <path d=\"M 28.942188 224.64 \r\nL 363.742188 224.64 \r\nL 363.742188 7.2 \r\nL 28.942188 7.2 \r\nz\r\n\" style=\"fill:#ffffff;\"/>\r\n   </g>\r\n   <g id=\"matplotlib.axis_1\">\r\n    <g id=\"xtick_1\">\r\n     <g id=\"line2d_1\">\r\n      <defs>\r\n       <path d=\"M 0 0 \r\nL 0 3.5 \r\n\" id=\"m993decbec6\" style=\"stroke:#000000;stroke-width:0.8;\"/>\r\n      </defs>\r\n      <g>\r\n       <use style=\"stroke:#000000;stroke-width:0.8;\" x=\"44.160369\" xlink:href=\"#m993decbec6\" y=\"224.64\"/>\r\n      </g>\r\n     </g>\r\n     <g id=\"text_1\">\r\n      <!-- 0 -->\r\n      <g transform=\"translate(40.979119 239.238438)scale(0.1 -0.1)\">\r\n       <defs>\r\n        <path d=\"M 31.78125 66.40625 \r\nQ 24.171875 66.40625 20.328125 58.90625 \r\nQ 16.5 51.421875 16.5 36.375 \r\nQ 16.5 21.390625 20.328125 13.890625 \r\nQ 24.171875 6.390625 31.78125 6.390625 \r\nQ 39.453125 6.390625 43.28125 13.890625 \r\nQ 47.125 21.390625 47.125 36.375 \r\nQ 47.125 51.421875 43.28125 58.90625 \r\nQ 39.453125 66.40625 31.78125 66.40625 \r\nz\r\nM 31.78125 74.21875 \r\nQ 44.046875 74.21875 50.515625 64.515625 \r\nQ 56.984375 54.828125 56.984375 36.375 \r\nQ 56.984375 17.96875 50.515625 8.265625 \r\nQ 44.046875 -1.421875 31.78125 -1.421875 \r\nQ 19.53125 -1.421875 13.0625 8.265625 \r\nQ 6.59375 17.96875 6.59375 36.375 \r\nQ 6.59375 54.828125 13.0625 64.515625 \r\nQ 19.53125 74.21875 31.78125 74.21875 \r\nz\r\n\" id=\"DejaVuSans-48\"/>\r\n       </defs>\r\n       <use xlink:href=\"#DejaVuSans-48\"/>\r\n      </g>\r\n     </g>\r\n    </g>\r\n    <g id=\"xtick_2\">\r\n     <g id=\"line2d_2\">\r\n      <g>\r\n       <use style=\"stroke:#000000;stroke-width:0.8;\" x=\"105.647973\" xlink:href=\"#m993decbec6\" y=\"224.64\"/>\r\n      </g>\r\n     </g>\r\n     <g id=\"text_2\">\r\n      <!-- 20 -->\r\n      <g transform=\"translate(99.285473 239.238438)scale(0.1 -0.1)\">\r\n       <defs>\r\n        <path d=\"M 19.1875 8.296875 \r\nL 53.609375 8.296875 \r\nL 53.609375 0 \r\nL 7.328125 0 \r\nL 7.328125 8.296875 \r\nQ 12.9375 14.109375 22.625 23.890625 \r\nQ 32.328125 33.6875 34.8125 36.53125 \r\nQ 39.546875 41.84375 41.421875 45.53125 \r\nQ 43.3125 49.21875 43.3125 52.78125 \r\nQ 43.3125 58.59375 39.234375 62.25 \r\nQ 35.15625 65.921875 28.609375 65.921875 \r\nQ 23.96875 65.921875 18.8125 64.3125 \r\nQ 13.671875 62.703125 7.8125 59.421875 \r\nL 7.8125 69.390625 \r\nQ 13.765625 71.78125 18.9375 73 \r\nQ 24.125 74.21875 28.421875 74.21875 \r\nQ 39.75 74.21875 46.484375 68.546875 \r\nQ 53.21875 62.890625 53.21875 53.421875 \r\nQ 53.21875 48.921875 51.53125 44.890625 \r\nQ 49.859375 40.875 45.40625 35.40625 \r\nQ 44.1875 33.984375 37.640625 27.21875 \r\nQ 31.109375 20.453125 19.1875 8.296875 \r\nz\r\n\" id=\"DejaVuSans-50\"/>\r\n       </defs>\r\n       <use xlink:href=\"#DejaVuSans-50\"/>\r\n       <use x=\"63.623047\" xlink:href=\"#DejaVuSans-48\"/>\r\n      </g>\r\n     </g>\r\n    </g>\r\n    <g id=\"xtick_3\">\r\n     <g id=\"line2d_3\">\r\n      <g>\r\n       <use style=\"stroke:#000000;stroke-width:0.8;\" x=\"167.135576\" xlink:href=\"#m993decbec6\" y=\"224.64\"/>\r\n      </g>\r\n     </g>\r\n     <g id=\"text_3\">\r\n      <!-- 40 -->\r\n      <g transform=\"translate(160.773076 239.238438)scale(0.1 -0.1)\">\r\n       <defs>\r\n        <path d=\"M 37.796875 64.3125 \r\nL 12.890625 25.390625 \r\nL 37.796875 25.390625 \r\nz\r\nM 35.203125 72.90625 \r\nL 47.609375 72.90625 \r\nL 47.609375 25.390625 \r\nL 58.015625 25.390625 \r\nL 58.015625 17.1875 \r\nL 47.609375 17.1875 \r\nL 47.609375 0 \r\nL 37.796875 0 \r\nL 37.796875 17.1875 \r\nL 4.890625 17.1875 \r\nL 4.890625 26.703125 \r\nz\r\n\" id=\"DejaVuSans-52\"/>\r\n       </defs>\r\n       <use xlink:href=\"#DejaVuSans-52\"/>\r\n       <use x=\"63.623047\" xlink:href=\"#DejaVuSans-48\"/>\r\n      </g>\r\n     </g>\r\n    </g>\r\n    <g id=\"xtick_4\">\r\n     <g id=\"line2d_4\">\r\n      <g>\r\n       <use style=\"stroke:#000000;stroke-width:0.8;\" x=\"228.623179\" xlink:href=\"#m993decbec6\" y=\"224.64\"/>\r\n      </g>\r\n     </g>\r\n     <g id=\"text_4\">\r\n      <!-- 60 -->\r\n      <g transform=\"translate(222.260679 239.238438)scale(0.1 -0.1)\">\r\n       <defs>\r\n        <path d=\"M 33.015625 40.375 \r\nQ 26.375 40.375 22.484375 35.828125 \r\nQ 18.609375 31.296875 18.609375 23.390625 \r\nQ 18.609375 15.53125 22.484375 10.953125 \r\nQ 26.375 6.390625 33.015625 6.390625 \r\nQ 39.65625 6.390625 43.53125 10.953125 \r\nQ 47.40625 15.53125 47.40625 23.390625 \r\nQ 47.40625 31.296875 43.53125 35.828125 \r\nQ 39.65625 40.375 33.015625 40.375 \r\nz\r\nM 52.59375 71.296875 \r\nL 52.59375 62.3125 \r\nQ 48.875 64.0625 45.09375 64.984375 \r\nQ 41.3125 65.921875 37.59375 65.921875 \r\nQ 27.828125 65.921875 22.671875 59.328125 \r\nQ 17.53125 52.734375 16.796875 39.40625 \r\nQ 19.671875 43.65625 24.015625 45.921875 \r\nQ 28.375 48.1875 33.59375 48.1875 \r\nQ 44.578125 48.1875 50.953125 41.515625 \r\nQ 57.328125 34.859375 57.328125 23.390625 \r\nQ 57.328125 12.15625 50.6875 5.359375 \r\nQ 44.046875 -1.421875 33.015625 -1.421875 \r\nQ 20.359375 -1.421875 13.671875 8.265625 \r\nQ 6.984375 17.96875 6.984375 36.375 \r\nQ 6.984375 53.65625 15.1875 63.9375 \r\nQ 23.390625 74.21875 37.203125 74.21875 \r\nQ 40.921875 74.21875 44.703125 73.484375 \r\nQ 48.484375 72.75 52.59375 71.296875 \r\nz\r\n\" id=\"DejaVuSans-54\"/>\r\n       </defs>\r\n       <use xlink:href=\"#DejaVuSans-54\"/>\r\n       <use x=\"63.623047\" xlink:href=\"#DejaVuSans-48\"/>\r\n      </g>\r\n     </g>\r\n    </g>\r\n    <g id=\"xtick_5\">\r\n     <g id=\"line2d_5\">\r\n      <g>\r\n       <use style=\"stroke:#000000;stroke-width:0.8;\" x=\"290.110783\" xlink:href=\"#m993decbec6\" y=\"224.64\"/>\r\n      </g>\r\n     </g>\r\n     <g id=\"text_5\">\r\n      <!-- 80 -->\r\n      <g transform=\"translate(283.748283 239.238438)scale(0.1 -0.1)\">\r\n       <defs>\r\n        <path d=\"M 31.78125 34.625 \r\nQ 24.75 34.625 20.71875 30.859375 \r\nQ 16.703125 27.09375 16.703125 20.515625 \r\nQ 16.703125 13.921875 20.71875 10.15625 \r\nQ 24.75 6.390625 31.78125 6.390625 \r\nQ 38.8125 6.390625 42.859375 10.171875 \r\nQ 46.921875 13.96875 46.921875 20.515625 \r\nQ 46.921875 27.09375 42.890625 30.859375 \r\nQ 38.875 34.625 31.78125 34.625 \r\nz\r\nM 21.921875 38.8125 \r\nQ 15.578125 40.375 12.03125 44.71875 \r\nQ 8.5 49.078125 8.5 55.328125 \r\nQ 8.5 64.0625 14.71875 69.140625 \r\nQ 20.953125 74.21875 31.78125 74.21875 \r\nQ 42.671875 74.21875 48.875 69.140625 \r\nQ 55.078125 64.0625 55.078125 55.328125 \r\nQ 55.078125 49.078125 51.53125 44.71875 \r\nQ 48 40.375 41.703125 38.8125 \r\nQ 48.828125 37.15625 52.796875 32.3125 \r\nQ 56.78125 27.484375 56.78125 20.515625 \r\nQ 56.78125 9.90625 50.3125 4.234375 \r\nQ 43.84375 -1.421875 31.78125 -1.421875 \r\nQ 19.734375 -1.421875 13.25 4.234375 \r\nQ 6.78125 9.90625 6.78125 20.515625 \r\nQ 6.78125 27.484375 10.78125 32.3125 \r\nQ 14.796875 37.15625 21.921875 38.8125 \r\nz\r\nM 18.3125 54.390625 \r\nQ 18.3125 48.734375 21.84375 45.5625 \r\nQ 25.390625 42.390625 31.78125 42.390625 \r\nQ 38.140625 42.390625 41.71875 45.5625 \r\nQ 45.3125 48.734375 45.3125 54.390625 \r\nQ 45.3125 60.0625 41.71875 63.234375 \r\nQ 38.140625 66.40625 31.78125 66.40625 \r\nQ 25.390625 66.40625 21.84375 63.234375 \r\nQ 18.3125 60.0625 18.3125 54.390625 \r\nz\r\n\" id=\"DejaVuSans-56\"/>\r\n       </defs>\r\n       <use xlink:href=\"#DejaVuSans-56\"/>\r\n       <use x=\"63.623047\" xlink:href=\"#DejaVuSans-48\"/>\r\n      </g>\r\n     </g>\r\n    </g>\r\n    <g id=\"xtick_6\">\r\n     <g id=\"line2d_6\">\r\n      <g>\r\n       <use style=\"stroke:#000000;stroke-width:0.8;\" x=\"351.598386\" xlink:href=\"#m993decbec6\" y=\"224.64\"/>\r\n      </g>\r\n     </g>\r\n     <g id=\"text_6\">\r\n      <!-- 100 -->\r\n      <g transform=\"translate(342.054636 239.238438)scale(0.1 -0.1)\">\r\n       <defs>\r\n        <path d=\"M 12.40625 8.296875 \r\nL 28.515625 8.296875 \r\nL 28.515625 63.921875 \r\nL 10.984375 60.40625 \r\nL 10.984375 69.390625 \r\nL 28.421875 72.90625 \r\nL 38.28125 72.90625 \r\nL 38.28125 8.296875 \r\nL 54.390625 8.296875 \r\nL 54.390625 0 \r\nL 12.40625 0 \r\nz\r\n\" id=\"DejaVuSans-49\"/>\r\n       </defs>\r\n       <use xlink:href=\"#DejaVuSans-49\"/>\r\n       <use x=\"63.623047\" xlink:href=\"#DejaVuSans-48\"/>\r\n       <use x=\"127.246094\" xlink:href=\"#DejaVuSans-48\"/>\r\n      </g>\r\n     </g>\r\n    </g>\r\n   </g>\r\n   <g id=\"matplotlib.axis_2\">\r\n    <g id=\"ytick_1\">\r\n     <g id=\"line2d_7\">\r\n      <defs>\r\n       <path d=\"M 0 0 \r\nL -3.5 0 \r\n\" id=\"mada53250a6\" style=\"stroke:#000000;stroke-width:0.8;\"/>\r\n      </defs>\r\n      <g>\r\n       <use style=\"stroke:#000000;stroke-width:0.8;\" x=\"28.942188\" xlink:href=\"#mada53250a6\" y=\"198.283636\"/>\r\n      </g>\r\n     </g>\r\n     <g id=\"text_7\">\r\n      <!-- −8 -->\r\n      <g transform=\"translate(7.2 202.082855)scale(0.1 -0.1)\">\r\n       <defs>\r\n        <path d=\"M 10.59375 35.5 \r\nL 73.1875 35.5 \r\nL 73.1875 27.203125 \r\nL 10.59375 27.203125 \r\nz\r\n\" id=\"DejaVuSans-8722\"/>\r\n       </defs>\r\n       <use xlink:href=\"#DejaVuSans-8722\"/>\r\n       <use x=\"83.789062\" xlink:href=\"#DejaVuSans-56\"/>\r\n      </g>\r\n     </g>\r\n    </g>\r\n    <g id=\"ytick_2\">\r\n     <g id=\"line2d_8\">\r\n      <g>\r\n       <use style=\"stroke:#000000;stroke-width:0.8;\" x=\"28.942188\" xlink:href=\"#mada53250a6\" y=\"165.338182\"/>\r\n      </g>\r\n     </g>\r\n     <g id=\"text_8\">\r\n      <!-- −6 -->\r\n      <g transform=\"translate(7.2 169.137401)scale(0.1 -0.1)\">\r\n       <use xlink:href=\"#DejaVuSans-8722\"/>\r\n       <use x=\"83.789062\" xlink:href=\"#DejaVuSans-54\"/>\r\n      </g>\r\n     </g>\r\n    </g>\r\n    <g id=\"ytick_3\">\r\n     <g id=\"line2d_9\">\r\n      <g>\r\n       <use style=\"stroke:#000000;stroke-width:0.8;\" x=\"28.942188\" xlink:href=\"#mada53250a6\" y=\"132.392727\"/>\r\n      </g>\r\n     </g>\r\n     <g id=\"text_9\">\r\n      <!-- −4 -->\r\n      <g transform=\"translate(7.2 136.191946)scale(0.1 -0.1)\">\r\n       <use xlink:href=\"#DejaVuSans-8722\"/>\r\n       <use x=\"83.789062\" xlink:href=\"#DejaVuSans-52\"/>\r\n      </g>\r\n     </g>\r\n    </g>\r\n    <g id=\"ytick_4\">\r\n     <g id=\"line2d_10\">\r\n      <g>\r\n       <use style=\"stroke:#000000;stroke-width:0.8;\" x=\"28.942188\" xlink:href=\"#mada53250a6\" y=\"99.447273\"/>\r\n      </g>\r\n     </g>\r\n     <g id=\"text_10\">\r\n      <!-- −2 -->\r\n      <g transform=\"translate(7.2 103.246491)scale(0.1 -0.1)\">\r\n       <use xlink:href=\"#DejaVuSans-8722\"/>\r\n       <use x=\"83.789062\" xlink:href=\"#DejaVuSans-50\"/>\r\n      </g>\r\n     </g>\r\n    </g>\r\n    <g id=\"ytick_5\">\r\n     <g id=\"line2d_11\">\r\n      <g>\r\n       <use style=\"stroke:#000000;stroke-width:0.8;\" x=\"28.942188\" xlink:href=\"#mada53250a6\" y=\"66.501818\"/>\r\n      </g>\r\n     </g>\r\n     <g id=\"text_11\">\r\n      <!-- 0 -->\r\n      <g transform=\"translate(15.579688 70.301037)scale(0.1 -0.1)\">\r\n       <use xlink:href=\"#DejaVuSans-48\"/>\r\n      </g>\r\n     </g>\r\n    </g>\r\n    <g id=\"ytick_6\">\r\n     <g id=\"line2d_12\">\r\n      <g>\r\n       <use style=\"stroke:#000000;stroke-width:0.8;\" x=\"28.942188\" xlink:href=\"#mada53250a6\" y=\"33.556364\"/>\r\n      </g>\r\n     </g>\r\n     <g id=\"text_12\">\r\n      <!-- 2 -->\r\n      <g transform=\"translate(15.579688 37.355582)scale(0.1 -0.1)\">\r\n       <use xlink:href=\"#DejaVuSans-50\"/>\r\n      </g>\r\n     </g>\r\n    </g>\r\n   </g>\r\n   <g id=\"line2d_13\">\r\n    <path clip-path=\"url(#p5a58548e5c)\" d=\"M 44.160369 66.501818 \r\nL 47.234749 82.974545 \r\nL 50.30913 99.447273 \r\nL 53.38351 115.92 \r\nL 56.45789 132.392727 \r\nL 59.53227 148.865455 \r\nL 62.60665 165.338182 \r\nL 65.68103 181.810909 \r\nL 68.755411 165.338182 \r\nL 71.829791 148.865455 \r\nL 74.904171 132.392727 \r\nL 77.978551 115.92 \r\nL 81.052931 132.392727 \r\nL 84.127311 148.865455 \r\nL 87.201692 132.392727 \r\nL 90.276072 148.865455 \r\nL 93.350452 132.392727 \r\nL 96.424832 148.865455 \r\nL 99.499212 165.338182 \r\nL 102.573592 148.865455 \r\nL 105.647973 132.392727 \r\nL 108.722353 148.865455 \r\nL 111.796733 132.392727 \r\nL 114.871113 148.865455 \r\nL 117.945493 165.338182 \r\nL 121.019873 148.865455 \r\nL 124.094254 165.338182 \r\nL 127.168634 181.810909 \r\nL 130.243014 165.338182 \r\nL 133.317394 181.810909 \r\nL 136.391774 165.338182 \r\nL 139.466154 181.810909 \r\nL 142.540535 165.338182 \r\nL 145.614915 181.810909 \r\nL 148.689295 165.338182 \r\nL 151.763675 148.865455 \r\nL 154.838055 132.392727 \r\nL 157.912435 115.92 \r\nL 160.986816 132.392727 \r\nL 164.061196 115.92 \r\nL 167.135576 132.392727 \r\nL 170.209956 148.865455 \r\nL 173.284336 165.338182 \r\nL 176.358716 181.810909 \r\nL 179.433097 198.283636 \r\nL 182.507477 181.810909 \r\nL 185.581857 198.283636 \r\nL 188.656237 181.810909 \r\nL 191.730617 198.283636 \r\nL 194.804997 214.756364 \r\nL 197.879378 198.283636 \r\nL 200.953758 214.756364 \r\nL 204.028138 198.283636 \r\nL 207.102518 214.756364 \r\nL 210.176898 198.283636 \r\nL 213.251278 181.810909 \r\nL 216.325659 165.338182 \r\nL 219.400039 148.865455 \r\nL 222.474419 132.392727 \r\nL 225.548799 115.92 \r\nL 228.623179 132.392727 \r\nL 231.697559 148.865455 \r\nL 234.77194 132.392727 \r\nL 237.84632 115.92 \r\nL 240.9207 132.392727 \r\nL 243.99508 148.865455 \r\nL 247.06946 165.338182 \r\nL 250.14384 181.810909 \r\nL 253.218221 165.338182 \r\nL 256.292601 148.865455 \r\nL 259.366981 132.392727 \r\nL 262.441361 148.865455 \r\nL 265.515741 165.338182 \r\nL 268.590121 148.865455 \r\nL 271.664502 165.338182 \r\nL 274.738882 148.865455 \r\nL 277.813262 132.392727 \r\nL 280.887642 115.92 \r\nL 283.962022 99.447273 \r\nL 287.036402 82.974545 \r\nL 290.110783 99.447273 \r\nL 293.185163 82.974545 \r\nL 296.259543 66.501818 \r\nL 299.333923 82.974545 \r\nL 302.408303 99.447273 \r\nL 305.482683 82.974545 \r\nL 308.557064 66.501818 \r\nL 311.631444 50.029091 \r\nL 314.705824 33.556364 \r\nL 317.780204 17.083636 \r\nL 320.854584 33.556364 \r\nL 323.928964 50.029091 \r\nL 327.003345 66.501818 \r\nL 330.077725 50.029091 \r\nL 333.152105 33.556364 \r\nL 336.226485 17.083636 \r\nL 339.300865 33.556364 \r\nL 342.375245 17.083636 \r\nL 345.449626 33.556364 \r\nL 348.524006 50.029091 \r\n\" style=\"fill:none;stroke:#1f77b4;stroke-linecap:square;stroke-width:1.5;\"/>\r\n   </g>\r\n   <g id=\"patch_3\">\r\n    <path d=\"M 28.942188 224.64 \r\nL 28.942188 7.2 \r\n\" style=\"fill:none;stroke:#000000;stroke-linecap:square;stroke-linejoin:miter;stroke-width:0.8;\"/>\r\n   </g>\r\n   <g id=\"patch_4\">\r\n    <path d=\"M 363.742188 224.64 \r\nL 363.742188 7.2 \r\n\" style=\"fill:none;stroke:#000000;stroke-linecap:square;stroke-linejoin:miter;stroke-width:0.8;\"/>\r\n   </g>\r\n   <g id=\"patch_5\">\r\n    <path d=\"M 28.942188 224.64 \r\nL 363.742188 224.64 \r\n\" style=\"fill:none;stroke:#000000;stroke-linecap:square;stroke-linejoin:miter;stroke-width:0.8;\"/>\r\n   </g>\r\n   <g id=\"patch_6\">\r\n    <path d=\"M 28.942188 7.2 \r\nL 363.742188 7.2 \r\n\" style=\"fill:none;stroke:#000000;stroke-linecap:square;stroke-linejoin:miter;stroke-width:0.8;\"/>\r\n   </g>\r\n  </g>\r\n </g>\r\n <defs>\r\n  <clipPath id=\"p5a58548e5c\">\r\n   <rect height=\"217.44\" width=\"334.8\" x=\"28.942188\" y=\"7.2\"/>\r\n  </clipPath>\r\n </defs>\r\n</svg>\r\n",
      "image/png": "[encoded data removed]"
     },
     "metadata": {
      "needs_background": "light"
     }
    }
   ],
   "source": [
    " plt.plot(walk[:100])"
   ]
  },
  {
   "cell_type": "code",
   "execution_count": 87,
   "metadata": {},
   "outputs": [],
   "source": [
    "nsteps = 1000\n",
    "draws = np.random.randint(0, 2, size = nsteps)\n",
    "steps = np.where(draws>0, 1, -1)\n",
    "walk = steps.cumsum()"
   ]
  },
  {
   "cell_type": "code",
   "execution_count": 89,
   "metadata": {},
   "outputs": [
    {
     "output_type": "stream",
     "name": "stdout",
     "text": [
      "-9\n60\n"
     ]
    }
   ],
   "source": [
    "print(walk.min())\n",
    "print(walk.max())"
   ]
  },
  {
   "cell_type": "code",
   "execution_count": 90,
   "metadata": {},
   "outputs": [
    {
     "output_type": "execute_result",
     "data": {
      "text/plain": [
       "297"
      ]
     },
     "metadata": {},
     "execution_count": 90
    }
   ],
   "source": [
    "(np.abs(walk)>=10).argmax()"
   ]
  },
  {
   "cell_type": "code",
   "execution_count": 92,
   "metadata": {},
   "outputs": [
    {
     "output_type": "execute_result",
     "data": {
      "text/plain": [
       "array([[  1,   2,   3, ...,  46,  47,  46],\n",
       "       [  1,   0,   1, ...,  40,  41,  42],\n",
       "       [  1,   2,   3, ..., -26, -27, -28],\n",
       "       ...,\n",
       "       [  1,   0,   1, ...,  64,  65,  66],\n",
       "       [  1,   2,   1, ...,   2,   1,   0],\n",
       "       [ -1,  -2,  -3, ...,  32,  33,  34]], dtype=int32)"
      ]
     },
     "metadata": {},
     "execution_count": 92
    }
   ],
   "source": [
    "nwalks = 5000\n",
    "nsteps = 1000\n",
    "draws = np.random.randint(0, 2, size=(nwalks, nsteps))\n",
    "steps = np.where(draws>0, 1, -1)\n",
    "walks = steps.cumsum(1)\n",
    "walks"
   ]
  },
  {
   "cell_type": "code",
   "execution_count": 93,
   "metadata": {},
   "outputs": [
    {
     "output_type": "stream",
     "name": "stdout",
     "text": [
      "122\n-128\n"
     ]
    }
   ],
   "source": [
    "print(walks.max())\n",
    "print(walks.min())"
   ]
  },
  {
   "cell_type": "code",
   "execution_count": 94,
   "metadata": {},
   "outputs": [
    {
     "output_type": "stream",
     "name": "stdout",
     "text": [
      "[ True  True  True ...  True False  True]\n3368\n"
     ]
    }
   ],
   "source": [
    "hits30 = (np.abs(walks)>=30).any(1)\n",
    "print(hits30)\n",
    "print(hits30.sum())"
   ]
  },
  {
   "cell_type": "code",
   "execution_count": 95,
   "metadata": {},
   "outputs": [
    {
     "output_type": "execute_result",
     "data": {
      "text/plain": [
       "509.99762470308787"
      ]
     },
     "metadata": {},
     "execution_count": 95
    }
   ],
   "source": [
    "crossing_times = (np.abs(walks[hits30]) >= 30).argmax(1)\n",
    "crossing_times.mean()"
   ]
  }
 ]
}